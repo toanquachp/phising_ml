{
 "cells": [
  {
   "cell_type": "markdown",
   "metadata": {},
   "source": [
    "# Using default replacement to NaN"
   ]
  },
  {
   "cell_type": "markdown",
   "metadata": {},
   "source": [
    "## Load libraries"
   ]
  },
  {
   "cell_type": "code",
   "execution_count": 5,
   "metadata": {},
   "outputs": [],
   "source": [
    "import pandas as pd\n",
    "import numpy as np\n",
    "import seaborn as sns\n",
    "import matplotlib.pyplot as plt\n",
    "%matplotlib inline\n",
    "pd.set_option('display.max_columns', 500)"
   ]
  },
  {
   "cell_type": "code",
   "execution_count": 6,
   "metadata": {},
   "outputs": [],
   "source": [
    "from sklearn.externals.six import StringIO\n",
    "import pydotplus\n",
    "from IPython.display import Image\n",
    "import graphviz"
   ]
  },
  {
   "cell_type": "markdown",
   "metadata": {},
   "source": [
    "# Load data"
   ]
  },
  {
   "cell_type": "code",
   "execution_count": 7,
   "metadata": {},
   "outputs": [],
   "source": [
    "phishing_data = pd.read_csv('phishing_final.csv')\n",
    "resultTarget = phishing_data[\"Result\"]\n",
    "# resultTarget.value_counts().argmax()"
   ]
  },
  {
   "cell_type": "code",
   "execution_count": 8,
   "metadata": {},
   "outputs": [],
   "source": [
    "# dataframe that will apply a default label to replace NaN\n",
    "phishingWithDefaultReplacement = phishing_data.copy(deep=True)\n"
   ]
  },
  {
   "cell_type": "markdown",
   "metadata": {},
   "source": [
    "# Understanding dataset"
   ]
  },
  {
   "cell_type": "code",
   "execution_count": 9,
   "metadata": {},
   "outputs": [
    {
     "data": {
      "text/html": [
       "<div>\n",
       "<style scoped>\n",
       "    .dataframe tbody tr th:only-of-type {\n",
       "        vertical-align: middle;\n",
       "    }\n",
       "\n",
       "    .dataframe tbody tr th {\n",
       "        vertical-align: top;\n",
       "    }\n",
       "\n",
       "    .dataframe thead th {\n",
       "        text-align: right;\n",
       "    }\n",
       "</style>\n",
       "<table border=\"1\" class=\"dataframe\">\n",
       "  <thead>\n",
       "    <tr style=\"text-align: right;\">\n",
       "      <th></th>\n",
       "      <th>having_IP_Address</th>\n",
       "      <th>URL_Length</th>\n",
       "      <th>Shortining_Service</th>\n",
       "      <th>having_At_Symbol</th>\n",
       "      <th>double_slash_redirecting</th>\n",
       "      <th>Prefix_Suffix</th>\n",
       "      <th>having_Sub_Domain</th>\n",
       "      <th>Domain_registeration_length</th>\n",
       "      <th>Favicon</th>\n",
       "      <th>port</th>\n",
       "      <th>HTTPS_token</th>\n",
       "      <th>Request_URL</th>\n",
       "      <th>URL_of_Anchor</th>\n",
       "      <th>Links_in_tags</th>\n",
       "      <th>SFH</th>\n",
       "      <th>Submitting_to_email</th>\n",
       "      <th>Abnormal_URL</th>\n",
       "      <th>Redirect</th>\n",
       "      <th>on_mouseover</th>\n",
       "      <th>RightClick</th>\n",
       "      <th>popUpWidnow</th>\n",
       "      <th>Iframe</th>\n",
       "      <th>age_of_domain</th>\n",
       "      <th>DNSRecord</th>\n",
       "      <th>web_traffic</th>\n",
       "      <th>Page_Rank</th>\n",
       "      <th>Google_Index</th>\n",
       "      <th>Links_pointing_to_page</th>\n",
       "      <th>Statistical_report</th>\n",
       "      <th>Result</th>\n",
       "    </tr>\n",
       "  </thead>\n",
       "  <tbody>\n",
       "    <tr>\n",
       "      <th>0</th>\n",
       "      <td>Yes</td>\n",
       "      <td>Medium</td>\n",
       "      <td>No</td>\n",
       "      <td>NaN</td>\n",
       "      <td>Yes</td>\n",
       "      <td>No</td>\n",
       "      <td>More than one</td>\n",
       "      <td>Short</td>\n",
       "      <td>Yes</td>\n",
       "      <td>Yes</td>\n",
       "      <td>Yes</td>\n",
       "      <td>Yes</td>\n",
       "      <td>Medium</td>\n",
       "      <td>Medium</td>\n",
       "      <td>Empty</td>\n",
       "      <td>Yes</td>\n",
       "      <td>Yes</td>\n",
       "      <td>No</td>\n",
       "      <td>No</td>\n",
       "      <td>Yes</td>\n",
       "      <td>No</td>\n",
       "      <td>Yes</td>\n",
       "      <td>Short</td>\n",
       "      <td>No</td>\n",
       "      <td>Medium</td>\n",
       "      <td>NaN</td>\n",
       "      <td>Yes</td>\n",
       "      <td>Two links and above</td>\n",
       "      <td>Reported</td>\n",
       "      <td>Phish</td>\n",
       "    </tr>\n",
       "    <tr>\n",
       "      <th>1</th>\n",
       "      <td>No</td>\n",
       "      <td>Medium</td>\n",
       "      <td>No</td>\n",
       "      <td>Yes</td>\n",
       "      <td>No</td>\n",
       "      <td>No</td>\n",
       "      <td>More than one</td>\n",
       "      <td>Short</td>\n",
       "      <td>Yes</td>\n",
       "      <td>Yes</td>\n",
       "      <td>No</td>\n",
       "      <td>Yes</td>\n",
       "      <td>Medium</td>\n",
       "      <td>Medium</td>\n",
       "      <td>Empty</td>\n",
       "      <td>No</td>\n",
       "      <td>No</td>\n",
       "      <td>No</td>\n",
       "      <td>Yes</td>\n",
       "      <td>Yes</td>\n",
       "      <td>Yes</td>\n",
       "      <td>Yes</td>\n",
       "      <td>Long</td>\n",
       "      <td>Yes</td>\n",
       "      <td>High</td>\n",
       "      <td>Low</td>\n",
       "      <td>Yes</td>\n",
       "      <td>No links</td>\n",
       "      <td>Not reported</td>\n",
       "      <td>Phish</td>\n",
       "    </tr>\n",
       "    <tr>\n",
       "      <th>2</th>\n",
       "      <td>Yes</td>\n",
       "      <td>Medium</td>\n",
       "      <td>No</td>\n",
       "      <td>Yes</td>\n",
       "      <td>Yes</td>\n",
       "      <td>No</td>\n",
       "      <td>More than one</td>\n",
       "      <td>Short</td>\n",
       "      <td>Yes</td>\n",
       "      <td>Yes</td>\n",
       "      <td>No</td>\n",
       "      <td>Yes</td>\n",
       "      <td>Medium</td>\n",
       "      <td>High</td>\n",
       "      <td>NaN</td>\n",
       "      <td>Yes</td>\n",
       "      <td>Yes</td>\n",
       "      <td>No</td>\n",
       "      <td>Yes</td>\n",
       "      <td>Yes</td>\n",
       "      <td>Yes</td>\n",
       "      <td>Yes</td>\n",
       "      <td>Long</td>\n",
       "      <td>No</td>\n",
       "      <td>NaN</td>\n",
       "      <td>High</td>\n",
       "      <td>Yes</td>\n",
       "      <td>Some links</td>\n",
       "      <td>Reported</td>\n",
       "      <td>Phish</td>\n",
       "    </tr>\n",
       "    <tr>\n",
       "      <th>3</th>\n",
       "      <td>Yes</td>\n",
       "      <td>NaN</td>\n",
       "      <td>Yes</td>\n",
       "      <td>NaN</td>\n",
       "      <td>Yes</td>\n",
       "      <td>No</td>\n",
       "      <td>One</td>\n",
       "      <td>Long</td>\n",
       "      <td>Yes</td>\n",
       "      <td>Yes</td>\n",
       "      <td>Yes</td>\n",
       "      <td>No</td>\n",
       "      <td>Medium</td>\n",
       "      <td>Medium</td>\n",
       "      <td>Empty</td>\n",
       "      <td>No</td>\n",
       "      <td>No</td>\n",
       "      <td>No</td>\n",
       "      <td>Yes</td>\n",
       "      <td>Yes</td>\n",
       "      <td>Yes</td>\n",
       "      <td>Yes</td>\n",
       "      <td>Short</td>\n",
       "      <td>Yes</td>\n",
       "      <td>High</td>\n",
       "      <td>High</td>\n",
       "      <td>Yes</td>\n",
       "      <td>No links</td>\n",
       "      <td>Not reported</td>\n",
       "      <td>Phish</td>\n",
       "    </tr>\n",
       "    <tr>\n",
       "      <th>4</th>\n",
       "      <td>Yes</td>\n",
       "      <td>Long</td>\n",
       "      <td>No</td>\n",
       "      <td>Yes</td>\n",
       "      <td>Yes</td>\n",
       "      <td>Yes</td>\n",
       "      <td>None</td>\n",
       "      <td>Short</td>\n",
       "      <td>Yes</td>\n",
       "      <td>Yes</td>\n",
       "      <td>No</td>\n",
       "      <td>Yes</td>\n",
       "      <td>Medium</td>\n",
       "      <td>NaN</td>\n",
       "      <td>Some</td>\n",
       "      <td>Yes</td>\n",
       "      <td>Yes</td>\n",
       "      <td>No</td>\n",
       "      <td>Yes</td>\n",
       "      <td>Yes</td>\n",
       "      <td>Yes</td>\n",
       "      <td>Yes</td>\n",
       "      <td>Long</td>\n",
       "      <td>No</td>\n",
       "      <td>High</td>\n",
       "      <td>Low</td>\n",
       "      <td>Yes</td>\n",
       "      <td>No links</td>\n",
       "      <td>Reported</td>\n",
       "      <td>Phish</td>\n",
       "    </tr>\n",
       "  </tbody>\n",
       "</table>\n",
       "</div>"
      ],
      "text/plain": [
       "  having_IP_Address URL_Length Shortining_Service having_At_Symbol  \\\n",
       "0               Yes     Medium                 No              NaN   \n",
       "1                No     Medium                 No              Yes   \n",
       "2               Yes     Medium                 No              Yes   \n",
       "3               Yes        NaN                Yes              NaN   \n",
       "4               Yes       Long                 No              Yes   \n",
       "\n",
       "  double_slash_redirecting Prefix_Suffix having_Sub_Domain  \\\n",
       "0                      Yes            No     More than one   \n",
       "1                       No            No     More than one   \n",
       "2                      Yes            No     More than one   \n",
       "3                      Yes            No               One   \n",
       "4                      Yes           Yes              None   \n",
       "\n",
       "  Domain_registeration_length Favicon port HTTPS_token Request_URL  \\\n",
       "0                       Short     Yes  Yes         Yes         Yes   \n",
       "1                       Short     Yes  Yes          No         Yes   \n",
       "2                       Short     Yes  Yes          No         Yes   \n",
       "3                        Long     Yes  Yes         Yes          No   \n",
       "4                       Short     Yes  Yes          No         Yes   \n",
       "\n",
       "  URL_of_Anchor Links_in_tags    SFH Submitting_to_email Abnormal_URL  \\\n",
       "0        Medium        Medium  Empty                 Yes          Yes   \n",
       "1        Medium        Medium  Empty                  No           No   \n",
       "2        Medium          High    NaN                 Yes          Yes   \n",
       "3        Medium        Medium  Empty                  No           No   \n",
       "4        Medium           NaN   Some                 Yes          Yes   \n",
       "\n",
       "  Redirect on_mouseover RightClick popUpWidnow Iframe age_of_domain DNSRecord  \\\n",
       "0       No           No        Yes          No    Yes         Short        No   \n",
       "1       No          Yes        Yes         Yes    Yes          Long       Yes   \n",
       "2       No          Yes        Yes         Yes    Yes          Long        No   \n",
       "3       No          Yes        Yes         Yes    Yes         Short       Yes   \n",
       "4       No          Yes        Yes         Yes    Yes          Long        No   \n",
       "\n",
       "  web_traffic Page_Rank Google_Index Links_pointing_to_page  \\\n",
       "0      Medium       NaN          Yes    Two links and above   \n",
       "1        High       Low          Yes               No links   \n",
       "2         NaN      High          Yes             Some links   \n",
       "3        High      High          Yes               No links   \n",
       "4        High       Low          Yes               No links   \n",
       "\n",
       "  Statistical_report Result  \n",
       "0           Reported  Phish  \n",
       "1       Not reported  Phish  \n",
       "2           Reported  Phish  \n",
       "3       Not reported  Phish  \n",
       "4           Reported  Phish  "
      ]
     },
     "execution_count": 9,
     "metadata": {},
     "output_type": "execute_result"
    }
   ],
   "source": [
    "# Display first 5 sample rows of data\n",
    "phishing_data.head()"
   ]
  },
  {
   "cell_type": "code",
   "execution_count": 10,
   "metadata": {},
   "outputs": [
    {
     "data": {
      "text/html": [
       "<div>\n",
       "<style scoped>\n",
       "    .dataframe tbody tr th:only-of-type {\n",
       "        vertical-align: middle;\n",
       "    }\n",
       "\n",
       "    .dataframe tbody tr th {\n",
       "        vertical-align: top;\n",
       "    }\n",
       "\n",
       "    .dataframe thead th {\n",
       "        text-align: right;\n",
       "    }\n",
       "</style>\n",
       "<table border=\"1\" class=\"dataframe\">\n",
       "  <thead>\n",
       "    <tr style=\"text-align: right;\">\n",
       "      <th></th>\n",
       "      <th>having_IP_Address</th>\n",
       "      <th>URL_Length</th>\n",
       "      <th>Shortining_Service</th>\n",
       "      <th>having_At_Symbol</th>\n",
       "      <th>double_slash_redirecting</th>\n",
       "      <th>Prefix_Suffix</th>\n",
       "      <th>having_Sub_Domain</th>\n",
       "      <th>Domain_registeration_length</th>\n",
       "      <th>Favicon</th>\n",
       "      <th>port</th>\n",
       "      <th>HTTPS_token</th>\n",
       "      <th>Request_URL</th>\n",
       "      <th>URL_of_Anchor</th>\n",
       "      <th>Links_in_tags</th>\n",
       "      <th>SFH</th>\n",
       "      <th>Submitting_to_email</th>\n",
       "      <th>Abnormal_URL</th>\n",
       "      <th>Redirect</th>\n",
       "      <th>on_mouseover</th>\n",
       "      <th>RightClick</th>\n",
       "      <th>popUpWidnow</th>\n",
       "      <th>Iframe</th>\n",
       "      <th>age_of_domain</th>\n",
       "      <th>DNSRecord</th>\n",
       "      <th>web_traffic</th>\n",
       "      <th>Page_Rank</th>\n",
       "      <th>Google_Index</th>\n",
       "      <th>Links_pointing_to_page</th>\n",
       "      <th>Statistical_report</th>\n",
       "      <th>Result</th>\n",
       "    </tr>\n",
       "  </thead>\n",
       "  <tbody>\n",
       "    <tr>\n",
       "      <th>count</th>\n",
       "      <td>11055</td>\n",
       "      <td>9947</td>\n",
       "      <td>9937</td>\n",
       "      <td>9957</td>\n",
       "      <td>9952</td>\n",
       "      <td>11055</td>\n",
       "      <td>11055</td>\n",
       "      <td>11055</td>\n",
       "      <td>11055</td>\n",
       "      <td>11055</td>\n",
       "      <td>9972</td>\n",
       "      <td>9976</td>\n",
       "      <td>9956</td>\n",
       "      <td>9948</td>\n",
       "      <td>9977</td>\n",
       "      <td>9950</td>\n",
       "      <td>11055</td>\n",
       "      <td>11055</td>\n",
       "      <td>11055</td>\n",
       "      <td>11055</td>\n",
       "      <td>11055</td>\n",
       "      <td>11055</td>\n",
       "      <td>9971</td>\n",
       "      <td>9934</td>\n",
       "      <td>9941</td>\n",
       "      <td>9982</td>\n",
       "      <td>9961</td>\n",
       "      <td>11055</td>\n",
       "      <td>11055</td>\n",
       "      <td>10001</td>\n",
       "    </tr>\n",
       "    <tr>\n",
       "      <th>unique</th>\n",
       "      <td>2</td>\n",
       "      <td>3</td>\n",
       "      <td>2</td>\n",
       "      <td>2</td>\n",
       "      <td>2</td>\n",
       "      <td>2</td>\n",
       "      <td>3</td>\n",
       "      <td>2</td>\n",
       "      <td>2</td>\n",
       "      <td>2</td>\n",
       "      <td>2</td>\n",
       "      <td>2</td>\n",
       "      <td>3</td>\n",
       "      <td>3</td>\n",
       "      <td>3</td>\n",
       "      <td>2</td>\n",
       "      <td>2</td>\n",
       "      <td>2</td>\n",
       "      <td>2</td>\n",
       "      <td>2</td>\n",
       "      <td>2</td>\n",
       "      <td>2</td>\n",
       "      <td>2</td>\n",
       "      <td>2</td>\n",
       "      <td>3</td>\n",
       "      <td>2</td>\n",
       "      <td>2</td>\n",
       "      <td>3</td>\n",
       "      <td>2</td>\n",
       "      <td>2</td>\n",
       "    </tr>\n",
       "    <tr>\n",
       "      <th>top</th>\n",
       "      <td>Yes</td>\n",
       "      <td>Short</td>\n",
       "      <td>Yes</td>\n",
       "      <td>Yes</td>\n",
       "      <td>Yes</td>\n",
       "      <td>No</td>\n",
       "      <td>More than one</td>\n",
       "      <td>Short</td>\n",
       "      <td>Yes</td>\n",
       "      <td>Yes</td>\n",
       "      <td>Yes</td>\n",
       "      <td>Yes</td>\n",
       "      <td>Medium</td>\n",
       "      <td>Medium</td>\n",
       "      <td>Empty</td>\n",
       "      <td>Yes</td>\n",
       "      <td>Yes</td>\n",
       "      <td>No</td>\n",
       "      <td>Yes</td>\n",
       "      <td>Yes</td>\n",
       "      <td>Yes</td>\n",
       "      <td>Yes</td>\n",
       "      <td>Long</td>\n",
       "      <td>Yes</td>\n",
       "      <td>High</td>\n",
       "      <td>Low</td>\n",
       "      <td>Yes</td>\n",
       "      <td>Some links</td>\n",
       "      <td>Reported</td>\n",
       "      <td>Phish</td>\n",
       "    </tr>\n",
       "    <tr>\n",
       "      <th>freq</th>\n",
       "      <td>7262</td>\n",
       "      <td>8078</td>\n",
       "      <td>8641</td>\n",
       "      <td>8474</td>\n",
       "      <td>8649</td>\n",
       "      <td>9590</td>\n",
       "      <td>4070</td>\n",
       "      <td>7389</td>\n",
       "      <td>9002</td>\n",
       "      <td>9553</td>\n",
       "      <td>8335</td>\n",
       "      <td>5908</td>\n",
       "      <td>4833</td>\n",
       "      <td>4021</td>\n",
       "      <td>7602</td>\n",
       "      <td>8126</td>\n",
       "      <td>9426</td>\n",
       "      <td>9776</td>\n",
       "      <td>9740</td>\n",
       "      <td>10579</td>\n",
       "      <td>8918</td>\n",
       "      <td>10043</td>\n",
       "      <td>5316</td>\n",
       "      <td>6832</td>\n",
       "      <td>5244</td>\n",
       "      <td>7382</td>\n",
       "      <td>8562</td>\n",
       "      <td>6156</td>\n",
       "      <td>9505</td>\n",
       "      <td>5560</td>\n",
       "    </tr>\n",
       "  </tbody>\n",
       "</table>\n",
       "</div>"
      ],
      "text/plain": [
       "       having_IP_Address URL_Length Shortining_Service having_At_Symbol  \\\n",
       "count              11055       9947               9937             9957   \n",
       "unique                 2          3                  2                2   \n",
       "top                  Yes      Short                Yes              Yes   \n",
       "freq                7262       8078               8641             8474   \n",
       "\n",
       "       double_slash_redirecting Prefix_Suffix having_Sub_Domain  \\\n",
       "count                      9952         11055             11055   \n",
       "unique                        2             2                 3   \n",
       "top                         Yes            No     More than one   \n",
       "freq                       8649          9590              4070   \n",
       "\n",
       "       Domain_registeration_length Favicon   port HTTPS_token Request_URL  \\\n",
       "count                        11055   11055  11055        9972        9976   \n",
       "unique                           2       2      2           2           2   \n",
       "top                          Short     Yes    Yes         Yes         Yes   \n",
       "freq                          7389    9002   9553        8335        5908   \n",
       "\n",
       "       URL_of_Anchor Links_in_tags    SFH Submitting_to_email Abnormal_URL  \\\n",
       "count           9956          9948   9977                9950        11055   \n",
       "unique             3             3      3                   2            2   \n",
       "top           Medium        Medium  Empty                 Yes          Yes   \n",
       "freq            4833          4021   7602                8126         9426   \n",
       "\n",
       "       Redirect on_mouseover RightClick popUpWidnow Iframe age_of_domain  \\\n",
       "count     11055        11055      11055       11055  11055          9971   \n",
       "unique        2            2          2           2      2             2   \n",
       "top          No          Yes        Yes         Yes    Yes          Long   \n",
       "freq       9776         9740      10579        8918  10043          5316   \n",
       "\n",
       "       DNSRecord web_traffic Page_Rank Google_Index Links_pointing_to_page  \\\n",
       "count       9934        9941      9982         9961                  11055   \n",
       "unique         2           3         2            2                      3   \n",
       "top          Yes        High       Low          Yes             Some links   \n",
       "freq        6832        5244      7382         8562                   6156   \n",
       "\n",
       "       Statistical_report Result  \n",
       "count               11055  10001  \n",
       "unique                  2      2  \n",
       "top              Reported  Phish  \n",
       "freq                 9505   5560  "
      ]
     },
     "execution_count": 10,
     "metadata": {},
     "output_type": "execute_result"
    }
   ],
   "source": [
    "# A summary table of the dataset\n",
    "phishing_data.describe()"
   ]
  },
  {
   "cell_type": "code",
   "execution_count": 11,
   "metadata": {},
   "outputs": [
    {
     "name": "stdout",
     "output_type": "stream",
     "text": [
      "Number of rows without the result: 1054\n"
     ]
    }
   ],
   "source": [
    "# Number of rows with NaN result\n",
    "print(f'Number of rows without the result: {phishing_data[phishing_data.Result.isnull()].shape[0]}')"
   ]
  },
  {
   "cell_type": "markdown",
   "metadata": {},
   "source": [
    "## Observation\n",
    "\n",
    "Result has NaN => dont know the outcome => drop row\n",
    "\n",
    "Several columns have NaN result"
   ]
  },
  {
   "cell_type": "code",
   "execution_count": 12,
   "metadata": {},
   "outputs": [
    {
     "data": {
      "text/html": [
       "<div>\n",
       "<style scoped>\n",
       "    .dataframe tbody tr th:only-of-type {\n",
       "        vertical-align: middle;\n",
       "    }\n",
       "\n",
       "    .dataframe tbody tr th {\n",
       "        vertical-align: top;\n",
       "    }\n",
       "\n",
       "    .dataframe thead th {\n",
       "        text-align: right;\n",
       "    }\n",
       "</style>\n",
       "<table border=\"1\" class=\"dataframe\">\n",
       "  <thead>\n",
       "    <tr style=\"text-align: right;\">\n",
       "      <th></th>\n",
       "      <th>having_IP_Address</th>\n",
       "      <th>URL_Length</th>\n",
       "      <th>Shortining_Service</th>\n",
       "      <th>having_At_Symbol</th>\n",
       "      <th>double_slash_redirecting</th>\n",
       "      <th>Prefix_Suffix</th>\n",
       "      <th>having_Sub_Domain</th>\n",
       "      <th>Domain_registeration_length</th>\n",
       "      <th>Favicon</th>\n",
       "      <th>port</th>\n",
       "      <th>HTTPS_token</th>\n",
       "      <th>Request_URL</th>\n",
       "      <th>URL_of_Anchor</th>\n",
       "      <th>Links_in_tags</th>\n",
       "      <th>SFH</th>\n",
       "      <th>Submitting_to_email</th>\n",
       "      <th>Abnormal_URL</th>\n",
       "      <th>Redirect</th>\n",
       "      <th>on_mouseover</th>\n",
       "      <th>RightClick</th>\n",
       "      <th>popUpWidnow</th>\n",
       "      <th>Iframe</th>\n",
       "      <th>age_of_domain</th>\n",
       "      <th>DNSRecord</th>\n",
       "      <th>web_traffic</th>\n",
       "      <th>Page_Rank</th>\n",
       "      <th>Google_Index</th>\n",
       "      <th>Links_pointing_to_page</th>\n",
       "      <th>Statistical_report</th>\n",
       "      <th>Result</th>\n",
       "    </tr>\n",
       "  </thead>\n",
       "  <tbody>\n",
       "    <tr>\n",
       "      <th>0</th>\n",
       "      <td>Yes</td>\n",
       "      <td>Medium</td>\n",
       "      <td>No</td>\n",
       "      <td>NaN</td>\n",
       "      <td>Yes</td>\n",
       "      <td>No</td>\n",
       "      <td>More than one</td>\n",
       "      <td>Short</td>\n",
       "      <td>Yes</td>\n",
       "      <td>Yes</td>\n",
       "      <td>Yes</td>\n",
       "      <td>Yes</td>\n",
       "      <td>Medium</td>\n",
       "      <td>Medium</td>\n",
       "      <td>Empty</td>\n",
       "      <td>Yes</td>\n",
       "      <td>Yes</td>\n",
       "      <td>No</td>\n",
       "      <td>No</td>\n",
       "      <td>Yes</td>\n",
       "      <td>No</td>\n",
       "      <td>Yes</td>\n",
       "      <td>Short</td>\n",
       "      <td>No</td>\n",
       "      <td>Medium</td>\n",
       "      <td>NaN</td>\n",
       "      <td>Yes</td>\n",
       "      <td>Two links and above</td>\n",
       "      <td>Reported</td>\n",
       "      <td>Phish</td>\n",
       "    </tr>\n",
       "    <tr>\n",
       "      <th>1</th>\n",
       "      <td>No</td>\n",
       "      <td>Medium</td>\n",
       "      <td>No</td>\n",
       "      <td>Yes</td>\n",
       "      <td>No</td>\n",
       "      <td>No</td>\n",
       "      <td>More than one</td>\n",
       "      <td>Short</td>\n",
       "      <td>Yes</td>\n",
       "      <td>Yes</td>\n",
       "      <td>No</td>\n",
       "      <td>Yes</td>\n",
       "      <td>Medium</td>\n",
       "      <td>Medium</td>\n",
       "      <td>Empty</td>\n",
       "      <td>No</td>\n",
       "      <td>No</td>\n",
       "      <td>No</td>\n",
       "      <td>Yes</td>\n",
       "      <td>Yes</td>\n",
       "      <td>Yes</td>\n",
       "      <td>Yes</td>\n",
       "      <td>Long</td>\n",
       "      <td>Yes</td>\n",
       "      <td>High</td>\n",
       "      <td>Low</td>\n",
       "      <td>Yes</td>\n",
       "      <td>No links</td>\n",
       "      <td>Not reported</td>\n",
       "      <td>Phish</td>\n",
       "    </tr>\n",
       "    <tr>\n",
       "      <th>2</th>\n",
       "      <td>Yes</td>\n",
       "      <td>Medium</td>\n",
       "      <td>No</td>\n",
       "      <td>Yes</td>\n",
       "      <td>Yes</td>\n",
       "      <td>No</td>\n",
       "      <td>More than one</td>\n",
       "      <td>Short</td>\n",
       "      <td>Yes</td>\n",
       "      <td>Yes</td>\n",
       "      <td>No</td>\n",
       "      <td>Yes</td>\n",
       "      <td>Medium</td>\n",
       "      <td>High</td>\n",
       "      <td>NaN</td>\n",
       "      <td>Yes</td>\n",
       "      <td>Yes</td>\n",
       "      <td>No</td>\n",
       "      <td>Yes</td>\n",
       "      <td>Yes</td>\n",
       "      <td>Yes</td>\n",
       "      <td>Yes</td>\n",
       "      <td>Long</td>\n",
       "      <td>No</td>\n",
       "      <td>NaN</td>\n",
       "      <td>High</td>\n",
       "      <td>Yes</td>\n",
       "      <td>Some links</td>\n",
       "      <td>Reported</td>\n",
       "      <td>Phish</td>\n",
       "    </tr>\n",
       "    <tr>\n",
       "      <th>3</th>\n",
       "      <td>Yes</td>\n",
       "      <td>NaN</td>\n",
       "      <td>Yes</td>\n",
       "      <td>NaN</td>\n",
       "      <td>Yes</td>\n",
       "      <td>No</td>\n",
       "      <td>One</td>\n",
       "      <td>Long</td>\n",
       "      <td>Yes</td>\n",
       "      <td>Yes</td>\n",
       "      <td>Yes</td>\n",
       "      <td>No</td>\n",
       "      <td>Medium</td>\n",
       "      <td>Medium</td>\n",
       "      <td>Empty</td>\n",
       "      <td>No</td>\n",
       "      <td>No</td>\n",
       "      <td>No</td>\n",
       "      <td>Yes</td>\n",
       "      <td>Yes</td>\n",
       "      <td>Yes</td>\n",
       "      <td>Yes</td>\n",
       "      <td>Short</td>\n",
       "      <td>Yes</td>\n",
       "      <td>High</td>\n",
       "      <td>High</td>\n",
       "      <td>Yes</td>\n",
       "      <td>No links</td>\n",
       "      <td>Not reported</td>\n",
       "      <td>Phish</td>\n",
       "    </tr>\n",
       "    <tr>\n",
       "      <th>4</th>\n",
       "      <td>Yes</td>\n",
       "      <td>Long</td>\n",
       "      <td>No</td>\n",
       "      <td>Yes</td>\n",
       "      <td>Yes</td>\n",
       "      <td>Yes</td>\n",
       "      <td>None</td>\n",
       "      <td>Short</td>\n",
       "      <td>Yes</td>\n",
       "      <td>Yes</td>\n",
       "      <td>No</td>\n",
       "      <td>Yes</td>\n",
       "      <td>Medium</td>\n",
       "      <td>NaN</td>\n",
       "      <td>Some</td>\n",
       "      <td>Yes</td>\n",
       "      <td>Yes</td>\n",
       "      <td>No</td>\n",
       "      <td>Yes</td>\n",
       "      <td>Yes</td>\n",
       "      <td>Yes</td>\n",
       "      <td>Yes</td>\n",
       "      <td>Long</td>\n",
       "      <td>No</td>\n",
       "      <td>High</td>\n",
       "      <td>Low</td>\n",
       "      <td>Yes</td>\n",
       "      <td>No links</td>\n",
       "      <td>Reported</td>\n",
       "      <td>Phish</td>\n",
       "    </tr>\n",
       "  </tbody>\n",
       "</table>\n",
       "</div>"
      ],
      "text/plain": [
       "  having_IP_Address URL_Length Shortining_Service having_At_Symbol  \\\n",
       "0               Yes     Medium                 No              NaN   \n",
       "1                No     Medium                 No              Yes   \n",
       "2               Yes     Medium                 No              Yes   \n",
       "3               Yes        NaN                Yes              NaN   \n",
       "4               Yes       Long                 No              Yes   \n",
       "\n",
       "  double_slash_redirecting Prefix_Suffix having_Sub_Domain  \\\n",
       "0                      Yes            No     More than one   \n",
       "1                       No            No     More than one   \n",
       "2                      Yes            No     More than one   \n",
       "3                      Yes            No               One   \n",
       "4                      Yes           Yes              None   \n",
       "\n",
       "  Domain_registeration_length Favicon port HTTPS_token Request_URL  \\\n",
       "0                       Short     Yes  Yes         Yes         Yes   \n",
       "1                       Short     Yes  Yes          No         Yes   \n",
       "2                       Short     Yes  Yes          No         Yes   \n",
       "3                        Long     Yes  Yes         Yes          No   \n",
       "4                       Short     Yes  Yes          No         Yes   \n",
       "\n",
       "  URL_of_Anchor Links_in_tags    SFH Submitting_to_email Abnormal_URL  \\\n",
       "0        Medium        Medium  Empty                 Yes          Yes   \n",
       "1        Medium        Medium  Empty                  No           No   \n",
       "2        Medium          High    NaN                 Yes          Yes   \n",
       "3        Medium        Medium  Empty                  No           No   \n",
       "4        Medium           NaN   Some                 Yes          Yes   \n",
       "\n",
       "  Redirect on_mouseover RightClick popUpWidnow Iframe age_of_domain DNSRecord  \\\n",
       "0       No           No        Yes          No    Yes         Short        No   \n",
       "1       No          Yes        Yes         Yes    Yes          Long       Yes   \n",
       "2       No          Yes        Yes         Yes    Yes          Long        No   \n",
       "3       No          Yes        Yes         Yes    Yes         Short       Yes   \n",
       "4       No          Yes        Yes         Yes    Yes          Long        No   \n",
       "\n",
       "  web_traffic Page_Rank Google_Index Links_pointing_to_page  \\\n",
       "0      Medium       NaN          Yes    Two links and above   \n",
       "1        High       Low          Yes               No links   \n",
       "2         NaN      High          Yes             Some links   \n",
       "3        High      High          Yes               No links   \n",
       "4        High       Low          Yes               No links   \n",
       "\n",
       "  Statistical_report Result  \n",
       "0           Reported  Phish  \n",
       "1       Not reported  Phish  \n",
       "2           Reported  Phish  \n",
       "3       Not reported  Phish  \n",
       "4           Reported  Phish  "
      ]
     },
     "execution_count": 12,
     "metadata": {},
     "output_type": "execute_result"
    }
   ],
   "source": [
    "# drop unknown result:\n",
    "phishing_data = phishing_data[~phishing_data['Result'].isnull()]\n",
    "phishing_data.head()"
   ]
  },
  {
   "cell_type": "code",
   "execution_count": 13,
   "metadata": {},
   "outputs": [
    {
     "data": {
      "text/plain": [
       "(10001, 30)"
      ]
     },
     "execution_count": 13,
     "metadata": {},
     "output_type": "execute_result"
    }
   ],
   "source": [
    "phishing_data.shape"
   ]
  },
  {
   "cell_type": "code",
   "execution_count": 14,
   "metadata": {},
   "outputs": [
    {
     "data": {
      "text/html": [
       "<div>\n",
       "<style scoped>\n",
       "    .dataframe tbody tr th:only-of-type {\n",
       "        vertical-align: middle;\n",
       "    }\n",
       "\n",
       "    .dataframe tbody tr th {\n",
       "        vertical-align: top;\n",
       "    }\n",
       "\n",
       "    .dataframe thead th {\n",
       "        text-align: right;\n",
       "    }\n",
       "</style>\n",
       "<table border=\"1\" class=\"dataframe\">\n",
       "  <thead>\n",
       "    <tr style=\"text-align: right;\">\n",
       "      <th></th>\n",
       "      <th>having_IP_Address</th>\n",
       "      <th>URL_Length</th>\n",
       "      <th>Shortining_Service</th>\n",
       "      <th>having_At_Symbol</th>\n",
       "      <th>double_slash_redirecting</th>\n",
       "      <th>Prefix_Suffix</th>\n",
       "      <th>having_Sub_Domain</th>\n",
       "      <th>Domain_registeration_length</th>\n",
       "      <th>Favicon</th>\n",
       "      <th>port</th>\n",
       "      <th>HTTPS_token</th>\n",
       "      <th>Request_URL</th>\n",
       "      <th>URL_of_Anchor</th>\n",
       "      <th>Links_in_tags</th>\n",
       "      <th>SFH</th>\n",
       "      <th>Submitting_to_email</th>\n",
       "      <th>Abnormal_URL</th>\n",
       "      <th>Redirect</th>\n",
       "      <th>on_mouseover</th>\n",
       "      <th>RightClick</th>\n",
       "      <th>popUpWidnow</th>\n",
       "      <th>Iframe</th>\n",
       "      <th>age_of_domain</th>\n",
       "      <th>DNSRecord</th>\n",
       "      <th>web_traffic</th>\n",
       "      <th>Page_Rank</th>\n",
       "      <th>Google_Index</th>\n",
       "      <th>Links_pointing_to_page</th>\n",
       "      <th>Statistical_report</th>\n",
       "      <th>Result</th>\n",
       "    </tr>\n",
       "  </thead>\n",
       "  <tbody>\n",
       "    <tr>\n",
       "      <th>count</th>\n",
       "      <td>10001</td>\n",
       "      <td>8990</td>\n",
       "      <td>8974</td>\n",
       "      <td>9019</td>\n",
       "      <td>8987</td>\n",
       "      <td>10001</td>\n",
       "      <td>10001</td>\n",
       "      <td>10001</td>\n",
       "      <td>10001</td>\n",
       "      <td>10001</td>\n",
       "      <td>9019</td>\n",
       "      <td>9028</td>\n",
       "      <td>9007</td>\n",
       "      <td>8993</td>\n",
       "      <td>9027</td>\n",
       "      <td>8997</td>\n",
       "      <td>10001</td>\n",
       "      <td>10001</td>\n",
       "      <td>10001</td>\n",
       "      <td>10001</td>\n",
       "      <td>10001</td>\n",
       "      <td>10001</td>\n",
       "      <td>9029</td>\n",
       "      <td>8991</td>\n",
       "      <td>8988</td>\n",
       "      <td>9041</td>\n",
       "      <td>9008</td>\n",
       "      <td>10001</td>\n",
       "      <td>10001</td>\n",
       "      <td>10001</td>\n",
       "    </tr>\n",
       "    <tr>\n",
       "      <th>unique</th>\n",
       "      <td>2</td>\n",
       "      <td>3</td>\n",
       "      <td>2</td>\n",
       "      <td>2</td>\n",
       "      <td>2</td>\n",
       "      <td>2</td>\n",
       "      <td>3</td>\n",
       "      <td>2</td>\n",
       "      <td>2</td>\n",
       "      <td>2</td>\n",
       "      <td>2</td>\n",
       "      <td>2</td>\n",
       "      <td>3</td>\n",
       "      <td>3</td>\n",
       "      <td>3</td>\n",
       "      <td>2</td>\n",
       "      <td>2</td>\n",
       "      <td>2</td>\n",
       "      <td>2</td>\n",
       "      <td>2</td>\n",
       "      <td>2</td>\n",
       "      <td>2</td>\n",
       "      <td>2</td>\n",
       "      <td>2</td>\n",
       "      <td>3</td>\n",
       "      <td>2</td>\n",
       "      <td>2</td>\n",
       "      <td>3</td>\n",
       "      <td>2</td>\n",
       "      <td>2</td>\n",
       "    </tr>\n",
       "    <tr>\n",
       "      <th>top</th>\n",
       "      <td>Yes</td>\n",
       "      <td>Short</td>\n",
       "      <td>Yes</td>\n",
       "      <td>Yes</td>\n",
       "      <td>Yes</td>\n",
       "      <td>No</td>\n",
       "      <td>More than one</td>\n",
       "      <td>Short</td>\n",
       "      <td>Yes</td>\n",
       "      <td>Yes</td>\n",
       "      <td>Yes</td>\n",
       "      <td>Yes</td>\n",
       "      <td>Medium</td>\n",
       "      <td>Medium</td>\n",
       "      <td>Empty</td>\n",
       "      <td>Yes</td>\n",
       "      <td>Yes</td>\n",
       "      <td>No</td>\n",
       "      <td>Yes</td>\n",
       "      <td>Yes</td>\n",
       "      <td>Yes</td>\n",
       "      <td>Yes</td>\n",
       "      <td>Long</td>\n",
       "      <td>Yes</td>\n",
       "      <td>High</td>\n",
       "      <td>Low</td>\n",
       "      <td>Yes</td>\n",
       "      <td>Some links</td>\n",
       "      <td>Reported</td>\n",
       "      <td>Phish</td>\n",
       "    </tr>\n",
       "    <tr>\n",
       "      <th>freq</th>\n",
       "      <td>6567</td>\n",
       "      <td>7285</td>\n",
       "      <td>7811</td>\n",
       "      <td>7686</td>\n",
       "      <td>7810</td>\n",
       "      <td>8664</td>\n",
       "      <td>3688</td>\n",
       "      <td>6662</td>\n",
       "      <td>8142</td>\n",
       "      <td>8641</td>\n",
       "      <td>7546</td>\n",
       "      <td>5343</td>\n",
       "      <td>4371</td>\n",
       "      <td>3635</td>\n",
       "      <td>6892</td>\n",
       "      <td>7373</td>\n",
       "      <td>8543</td>\n",
       "      <td>8835</td>\n",
       "      <td>8799</td>\n",
       "      <td>9561</td>\n",
       "      <td>8070</td>\n",
       "      <td>9070</td>\n",
       "      <td>4816</td>\n",
       "      <td>6186</td>\n",
       "      <td>4741</td>\n",
       "      <td>6691</td>\n",
       "      <td>7728</td>\n",
       "      <td>5551</td>\n",
       "      <td>8595</td>\n",
       "      <td>5560</td>\n",
       "    </tr>\n",
       "  </tbody>\n",
       "</table>\n",
       "</div>"
      ],
      "text/plain": [
       "       having_IP_Address URL_Length Shortining_Service having_At_Symbol  \\\n",
       "count              10001       8990               8974             9019   \n",
       "unique                 2          3                  2                2   \n",
       "top                  Yes      Short                Yes              Yes   \n",
       "freq                6567       7285               7811             7686   \n",
       "\n",
       "       double_slash_redirecting Prefix_Suffix having_Sub_Domain  \\\n",
       "count                      8987         10001             10001   \n",
       "unique                        2             2                 3   \n",
       "top                         Yes            No     More than one   \n",
       "freq                       7810          8664              3688   \n",
       "\n",
       "       Domain_registeration_length Favicon   port HTTPS_token Request_URL  \\\n",
       "count                        10001   10001  10001        9019        9028   \n",
       "unique                           2       2      2           2           2   \n",
       "top                          Short     Yes    Yes         Yes         Yes   \n",
       "freq                          6662    8142   8641        7546        5343   \n",
       "\n",
       "       URL_of_Anchor Links_in_tags    SFH Submitting_to_email Abnormal_URL  \\\n",
       "count           9007          8993   9027                8997        10001   \n",
       "unique             3             3      3                   2            2   \n",
       "top           Medium        Medium  Empty                 Yes          Yes   \n",
       "freq            4371          3635   6892                7373         8543   \n",
       "\n",
       "       Redirect on_mouseover RightClick popUpWidnow Iframe age_of_domain  \\\n",
       "count     10001        10001      10001       10001  10001          9029   \n",
       "unique        2            2          2           2      2             2   \n",
       "top          No          Yes        Yes         Yes    Yes          Long   \n",
       "freq       8835         8799       9561        8070   9070          4816   \n",
       "\n",
       "       DNSRecord web_traffic Page_Rank Google_Index Links_pointing_to_page  \\\n",
       "count       8991        8988      9041         9008                  10001   \n",
       "unique         2           3         2            2                      3   \n",
       "top          Yes        High       Low          Yes             Some links   \n",
       "freq        6186        4741      6691         7728                   5551   \n",
       "\n",
       "       Statistical_report Result  \n",
       "count               10001  10001  \n",
       "unique                  2      2  \n",
       "top              Reported  Phish  \n",
       "freq                 8595   5560  "
      ]
     },
     "execution_count": 14,
     "metadata": {},
     "output_type": "execute_result"
    }
   ],
   "source": [
    "phishing_data.describe()"
   ]
  },
  {
   "cell_type": "markdown",
   "metadata": {},
   "source": [
    "some missing data: 8974 ~ 10001"
   ]
  },
  {
   "cell_type": "markdown",
   "metadata": {},
   "source": [
    "## Visualize the original dataframe"
   ]
  },
  {
   "cell_type": "code",
   "execution_count": 15,
   "metadata": {},
   "outputs": [],
   "source": [
    "import numpy as np\n",
    "import seaborn as sns\n",
    "import matplotlib.pyplot as plt\n",
    "%matplotlib inline"
   ]
  },
  {
   "cell_type": "code",
   "execution_count": 17,
   "metadata": {},
   "outputs": [
    {
     "data": {
      "text/plain": [
       "<Figure size 432x288 with 0 Axes>"
      ]
     },
     "metadata": {},
     "output_type": "display_data"
    },
    {
     "data": {
      "image/png": "[encoded data removed]",
      "text/plain": [
       "<Figure size 1440x1800 with 30 Axes>"
      ]
     },
     "metadata": {
      "needs_background": "light"
     },
     "output_type": "display_data"
    }
   ],
   "source": [
    "columns_plot = np.array(phishing_data.columns).reshape(6, 5)\n",
    "plt.subplots_adjust(left  = 0.3, right = 0.9, bottom = 0.2, top = 0.9, wspace = 0.3, hspace = 0.3)\n",
    "\n",
    "f, axes = plt.subplots(6, 5, figsize=(20, 25))\n",
    "\n",
    "for x in range(6):\n",
    "    for y in range(5):\n",
    "        sns.countplot(x=columns_plot[x][y], hue='Result', data=phishing_data, ax=axes[x][y])"
   ]
  },
  {
   "cell_type": "markdown",
   "metadata": {},
   "source": [
    "## from data distribution:\n",
    "    Data is not bias.\n",
    "    first layer entropy important features: \n",
    "        URL-Anchor, Prefix, LinkinTag, webTrafic, DomainLength..."
   ]
  },
  {
   "cell_type": "markdown",
   "metadata": {},
   "source": [
    "# Preprocess \n",
    "## fill NaN using default value"
   ]
  },
  {
   "cell_type": "code",
   "execution_count": 18,
   "metadata": {},
   "outputs": [],
   "source": [
    "dataFrame = phishingWithDefaultReplacement\n"
   ]
  },
  {
   "cell_type": "code",
   "execution_count": 19,
   "metadata": {},
   "outputs": [],
   "source": [
    "# function to get column names which contain NaN values\n",
    "def columnsContainNaN (df):\n",
    "    result = df.columns[df.isna().any()].tolist()\n",
    "    return result\n",
    "# columnsContainNaN(phising_data)"
   ]
  },
  {
   "cell_type": "code",
   "execution_count": 20,
   "metadata": {},
   "outputs": [],
   "source": [
    "# function to fill NaN with a certain value:\n",
    "def fillNaN (df, value):    \n",
    "    for column in df.columns.tolist() :\n",
    "        df[column] = df[column].fillna(value)\n",
    "    return df\n",
    "# fillNaN(phising_data.drop(\"URL_Length\", axis=1),\"default\")"
   ]
  },
  {
   "cell_type": "code",
   "execution_count": 23,
   "metadata": {},
   "outputs": [],
   "source": [
    "#     spliting target, features\n",
    "target = dataFrame[\"Result\"]\n",
    "#     print(target)\n",
    "remainFeatures = dataFrame.drop(columns=[\"Result\"])\n",
    "#     fill nan features by default label, that helps RFC model to work\n",
    "remainFeatures = fillNaN(remainFeatures,\"default\")\n",
    "#     print(column in remainFeatures.columns.tolist())\n",
    "#     combine\n",
    "dataFrame = remainFeatures.join(target)\n"
   ]
  },
  {
   "cell_type": "code",
   "execution_count": 24,
   "metadata": {},
   "outputs": [
    {
     "data": {
      "text/plain": [
       "['Result']"
      ]
     },
     "execution_count": 24,
     "metadata": {},
     "output_type": "execute_result"
    }
   ],
   "source": [
    "# check result\n",
    "columnsContainNaN(dataFrame)"
   ]
  },
  {
   "cell_type": "markdown",
   "metadata": {},
   "source": [
    "# Split data"
   ]
  },
  {
   "cell_type": "code",
   "execution_count": 25,
   "metadata": {},
   "outputs": [],
   "source": [
    "# drop unknown result:\n",
    "dataFrame = dataFrame[~dataFrame['Result'].isnull()]\n"
   ]
  },
  {
   "cell_type": "code",
   "execution_count": 26,
   "metadata": {},
   "outputs": [],
   "source": [
    "# split features and target\n",
    "# the dataframe that use default method\n",
    "phishingDF_X, phishingDF_y =  dataFrame.drop('Result', axis=1), dataFrame['Result']\n"
   ]
  },
  {
   "cell_type": "code",
   "execution_count": 29,
   "metadata": {},
   "outputs": [],
   "source": [
    "from sklearn.model_selection import train_test_split\n",
    "from sklearn.preprocessing import LabelEncoder"
   ]
  },
  {
   "cell_type": "code",
   "execution_count": 30,
   "metadata": {},
   "outputs": [],
   "source": [
    "# encoding labels\n",
    "# to avoid side-effect on the input dataframe, make a deep copy\n",
    "def encodingDF (df):    \n",
    "    dataframe = df\n",
    "    for column in dataframe.columns.tolist() :\n",
    "        dataframe[column] = LabelEncoder().fit_transform(dataframe[column])      \n",
    "    return dataframe\n"
   ]
  },
  {
   "cell_type": "code",
   "execution_count": 31,
   "metadata": {},
   "outputs": [],
   "source": [
    "trainDF_X, testDF_X, trainDF_y, testDF_y = train_test_split(encodingDF(phishingDF_X), \n",
    "            phishingDF_y, test_size=0.3, stratify = phishingDF_y, random_state=42)\n",
    "# todo: check best test_size"
   ]
  },
  {
   "cell_type": "markdown",
   "metadata": {},
   "source": [
    "### first train and evaluate"
   ]
  },
  {
   "cell_type": "code",
   "execution_count": 32,
   "metadata": {},
   "outputs": [],
   "source": [
    "from sklearn.ensemble import RandomForestClassifier\n",
    "from sklearn.ensemble import AdaBoostClassifier\n",
    "from sklearn.ensemble import BaggingClassifier\n",
    "from sklearn.ensemble import GradientBoostingClassifier\n",
    "from sklearn import tree\n",
    "from sklearn.tree import DecisionTreeClassifier"
   ]
  },
  {
   "cell_type": "code",
   "execution_count": 33,
   "metadata": {},
   "outputs": [
    {
     "name": "stderr",
     "output_type": "stream",
     "text": [
      "/Users/donbosco/anaconda3/lib/python3.7/site-packages/sklearn/ensemble/forest.py:246: FutureWarning: The default value of n_estimators will change from 10 in version 0.20 to 100 in 0.22.\n",
      "  \"10 in version 0.20 to 100 in 0.22.\", FutureWarning)\n"
     ]
    }
   ],
   "source": [
    "clf_rand = RandomForestClassifier().fit(trainDF_X, trainDF_y)\n",
    "clf_ada = AdaBoostClassifier().fit(trainDF_X, trainDF_y)\n",
    "clf_bagging = BaggingClassifier().fit(trainDF_X, trainDF_y)\n",
    "clf_grad= GradientBoostingClassifier().fit(trainDF_X, trainDF_y)\n",
    "clf_tree = DecisionTreeClassifier().fit(trainDF_X, trainDF_y)"
   ]
  },
  {
   "cell_type": "code",
   "execution_count": 34,
   "metadata": {},
   "outputs": [],
   "source": [
    "predictions_rand = clf_rand.predict(testDF_X)\n",
    "predictions_ada = clf_ada.predict(testDF_X)\n",
    "predictions_bagging = clf_bagging.predict(testDF_X)\n",
    "predictions_grad = clf_grad.predict(testDF_X)\n",
    "predictions_tree = clf_tree.predict(testDF_X)"
   ]
  },
  {
   "cell_type": "code",
   "execution_count": 35,
   "metadata": {},
   "outputs": [],
   "source": [
    "from sklearn.metrics import classification_report\n"
   ]
  },
  {
   "cell_type": "code",
   "execution_count": 36,
   "metadata": {},
   "outputs": [
    {
     "name": "stdout",
     "output_type": "stream",
     "text": [
      "random forest classifier : \n",
      "               precision    recall  f1-score   support\n",
      "\n",
      "   Not phish       0.88      0.92      0.90      1333\n",
      "       Phish       0.93      0.90      0.92      1668\n",
      "\n",
      "   micro avg       0.91      0.91      0.91      3001\n",
      "   macro avg       0.91      0.91      0.91      3001\n",
      "weighted avg       0.91      0.91      0.91      3001\n",
      "\n",
      "ada classifier : \n",
      "               precision    recall  f1-score   support\n",
      "\n",
      "   Not phish       0.88      0.84      0.86      1333\n",
      "       Phish       0.88      0.91      0.89      1668\n",
      "\n",
      "   micro avg       0.88      0.88      0.88      3001\n",
      "   macro avg       0.88      0.88      0.88      3001\n",
      "weighted avg       0.88      0.88      0.88      3001\n",
      "\n",
      "bagging classifier : \n",
      "               precision    recall  f1-score   support\n",
      "\n",
      "   Not phish       0.88      0.89      0.88      1333\n",
      "       Phish       0.91      0.90      0.91      1668\n",
      "\n",
      "   micro avg       0.90      0.90      0.90      3001\n",
      "   macro avg       0.89      0.90      0.90      3001\n",
      "weighted avg       0.90      0.90      0.90      3001\n",
      "\n",
      "grad classifier : \n",
      "               precision    recall  f1-score   support\n",
      "\n",
      "   Not phish       0.90      0.85      0.87      1333\n",
      "       Phish       0.89      0.92      0.90      1668\n",
      "\n",
      "   micro avg       0.89      0.89      0.89      3001\n",
      "   macro avg       0.89      0.89      0.89      3001\n",
      "weighted avg       0.89      0.89      0.89      3001\n",
      "\n",
      "tree classifier : \n",
      "               precision    recall  f1-score   support\n",
      "\n",
      "   Not phish       0.85      0.86      0.86      1333\n",
      "       Phish       0.89      0.88      0.88      1668\n",
      "\n",
      "   micro avg       0.87      0.87      0.87      3001\n",
      "   macro avg       0.87      0.87      0.87      3001\n",
      "weighted avg       0.87      0.87      0.87      3001\n",
      "\n"
     ]
    }
   ],
   "source": [
    "\n",
    "print(\"random forest classifier : \\n\",classification_report(testDF_y, predictions_rand))\n",
    "print(\"ada classifier : \\n\",classification_report(testDF_y, predictions_ada))\n",
    "print(\"bagging classifier : \\n\",classification_report(testDF_y, predictions_bagging))\n",
    "print(\"grad classifier : \\n\",classification_report(testDF_y, predictions_grad))\n",
    "print(\"tree classifier : \\n\",classification_report(testDF_y, predictions_tree))"
   ]
  },
  {
   "cell_type": "markdown",
   "metadata": {},
   "source": [
    "#### check the importance features"
   ]
  },
  {
   "cell_type": "code",
   "execution_count": 38,
   "metadata": {},
   "outputs": [
    {
     "name": "stderr",
     "output_type": "stream",
     "text": [
      "No handles with labels found to put in legend.\n"
     ]
    },
    {
     "data": {
      "text/plain": [
       "<matplotlib.legend.Legend at 0x1a1c2cc6d8>"
      ]
     },
     "execution_count": 38,
     "metadata": {},
     "output_type": "execute_result"
    },
    {
     "data": {
      "image/png": "[encoded data removed]",
      "text/plain": [
       "<Figure size 2520x1080 with 1 Axes>"
      ]
     },
     "metadata": {
      "needs_background": "light"
     },
     "output_type": "display_data"
    }
   ],
   "source": [
    "# suggestions from random forest tree\n",
    "fi_rand = pd.DataFrame(sorted(zip(dataFrame.columns,\n",
    "                            map(lambda x: round(x, 4), clf_rand.feature_importances_))), \n",
    "                       columns=['feature', 'score'])\n",
    "fig, ax = plt.subplots(1, 1, figsize=(35, 15))\n",
    "sns.barplot(x='score', y='feature', data=fi_rand, ax=ax)\n",
    "ax.legend()"
   ]
  },
  {
   "cell_type": "markdown",
   "metadata": {},
   "source": [
    "### features selection:"
   ]
  },
  {
   "cell_type": "code",
   "execution_count": 43,
   "metadata": {},
   "outputs": [],
   "source": [
    "from sklearn import metrics"
   ]
  },
  {
   "cell_type": "code",
   "execution_count": 44,
   "metadata": {},
   "outputs": [],
   "source": [
    "# function to train a model with train and test set, with selected features\n",
    "# params:\n",
    "#     model: model want to train (here we use classifier models)\n",
    "#     trainX,trainY,testX,testY: dataframe\n",
    "#     features: features that the model will be trained on\n",
    "# output: \n",
    "#     trained model and evaluation report\n",
    "def trainAndReportWithFeatures(model, trainX,trainY,testX,testY,features):\n",
    "    trainedModel = model.fit(trainX[features],trainY)\n",
    "    predictions = trainedModel.predict(testX[features])\n",
    "#     report = classification_report(testY, predictions, output_dict=True)\n",
    "    report = classification_report(testY, predictions)\n",
    "    accuracy = metrics.accuracy_score(testY,predictions)\n",
    "    rocAuc = metrics.roc_auc_score(testY,trainedModel.predict_proba(testX[features])[:, 1])\n",
    "#     print(report)\n",
    "    return (trainedModel,report,accuracy,rocAuc)"
   ]
  },
  {
   "cell_type": "code",
   "execution_count": 45,
   "metadata": {},
   "outputs": [],
   "source": [
    "# function to train a model, with train and test set, under suggestion of another model, with selected feature amount\n",
    "# params:\n",
    "#     needTrainModel: model want to train (here we use decision tree)\n",
    "#     trainedRFmodel: model to evaluate feature importances (here we use random forest tree)\n",
    "#     trainX,trainY,testX,testY, dataframe : (input here so that data will not change)\n",
    "#     n: amount of features that the model will be trained on, base on importance level\n",
    "# output: \n",
    "#     trained model and evaluation report\n",
    "def selectFeature(trainedRFmodel, needTrainModel ,dataFrame,trainX,trainY,testX,testY,n):\n",
    "    fi_rand = pd.DataFrame(sorted(zip(dataFrame.columns,\n",
    "                                 map(lambda x: round(x, 4), trainedRFmodel.feature_importances_))),\n",
    "                           columns=['feature', 'score'])\n",
    "    fi_rand = fi_rand.sort_values(by=\"score\",ascending=False)\n",
    "    fi_rand_filted = list(filter(lambda item: item != \"Result\", fi_rand[\"feature\"].ravel()))\n",
    "    if n > len(fi_rand_filted) : return (0,0)\n",
    "    features = fi_rand_filted[:n]\n",
    "    (trainedModel, report,accuracy,rocAuc) = trainAndReportWithFeatures(needTrainModel, trainX,trainY,testX,testY,features)\n",
    "    print(\"features selected: \",features)\n",
    "    print(\"report: \",report)\n",
    "    print(\"accuracy: \",accuracy)\n",
    "    print(\"roc auc score: \",rocAuc)\n",
    "    return (trainedModel,report)"
   ]
  },
  {
   "cell_type": "code",
   "execution_count": 49,
   "metadata": {},
   "outputs": [
    {
     "name": "stdout",
     "output_type": "stream",
     "text": [
      "features selected:  ['URL_of_Anchor']\n",
      "report:                precision    recall  f1-score   support\n",
      "\n",
      "   Not phish       0.99      0.59      0.74      1333\n",
      "       Phish       0.75      1.00      0.86      1668\n",
      "\n",
      "   micro avg       0.81      0.81      0.81      3001\n",
      "   macro avg       0.87      0.79      0.80      3001\n",
      "weighted avg       0.86      0.81      0.80      3001\n",
      "\n",
      "accuracy:  0.8147284238587138\n",
      "roc auc score:  0.8561097108809577\n"
     ]
    }
   ],
   "source": [
    "# 1 feature\n",
    "a1= selectFeature(clf_rand,clf_tree,dataFrame,trainDF_X, trainDF_y, testDF_X, testDF_y,1)"
   ]
  },
  {
   "cell_type": "code",
   "execution_count": 50,
   "metadata": {},
   "outputs": [
    {
     "name": "stdout",
     "output_type": "stream",
     "text": [
      "features selected:  ['URL_of_Anchor', 'web_traffic']\n",
      "report:                precision    recall  f1-score   support\n",
      "\n",
      "   Not phish       0.83      0.76      0.79      1333\n",
      "       Phish       0.82      0.87      0.85      1668\n",
      "\n",
      "   micro avg       0.82      0.82      0.82      3001\n",
      "   macro avg       0.82      0.82      0.82      3001\n",
      "weighted avg       0.82      0.82      0.82      3001\n",
      "\n",
      "accuracy:  0.8227257580806397\n",
      "roc auc score:  0.8836267070364714\n"
     ]
    }
   ],
   "source": [
    "# 2 features\n",
    "a2= selectFeature(clf_rand,clf_tree,dataFrame,trainDF_X, trainDF_y, testDF_X, testDF_y,2)"
   ]
  },
  {
   "cell_type": "code",
   "execution_count": 51,
   "metadata": {},
   "outputs": [
    {
     "name": "stdout",
     "output_type": "stream",
     "text": [
      "features selected:  ['URL_of_Anchor', 'web_traffic', 'having_Sub_Domain', 'Prefix_Suffix', 'Links_in_tags']\n",
      "report:                precision    recall  f1-score   support\n",
      "\n",
      "   Not phish       0.85      0.84      0.85      1333\n",
      "       Phish       0.87      0.89      0.88      1668\n",
      "\n",
      "   micro avg       0.87      0.87      0.87      3001\n",
      "   macro avg       0.86      0.86      0.86      3001\n",
      "weighted avg       0.87      0.87      0.87      3001\n",
      "\n",
      "accuracy:  0.8653782072642453\n",
      "roc auc score:  0.9383373271375397\n"
     ]
    }
   ],
   "source": [
    "# 5 features\n",
    "a5= selectFeature(clf_rand,clf_tree,dataFrame,trainDF_X, trainDF_y, testDF_X, testDF_y,5)"
   ]
  },
  {
   "cell_type": "code",
   "execution_count": 52,
   "metadata": {},
   "outputs": [
    {
     "name": "stdout",
     "output_type": "stream",
     "text": [
      "features selected:  ['URL_of_Anchor', 'web_traffic', 'having_Sub_Domain', 'Prefix_Suffix', 'Links_in_tags', 'Request_URL', 'Google_Index', 'SFH', 'age_of_domain']\n",
      "report:                precision    recall  f1-score   support\n",
      "\n",
      "   Not phish       0.84      0.86      0.85      1333\n",
      "       Phish       0.89      0.87      0.88      1668\n",
      "\n",
      "   micro avg       0.87      0.87      0.87      3001\n",
      "   macro avg       0.86      0.87      0.87      3001\n",
      "weighted avg       0.87      0.87      0.87      3001\n",
      "\n",
      "accuracy:  0.8667110963012329\n",
      "roc auc score:  0.9018007649394362\n"
     ]
    }
   ],
   "source": [
    "# 9 features\n",
    "a9= selectFeature(clf_rand,clf_tree,dataFrame,trainDF_X, trainDF_y, testDF_X, testDF_y,9)"
   ]
  },
  {
   "cell_type": "code",
   "execution_count": 53,
   "metadata": {},
   "outputs": [
    {
     "name": "stdout",
     "output_type": "stream",
     "text": [
      "features selected:  ['URL_of_Anchor', 'web_traffic', 'having_Sub_Domain', 'Prefix_Suffix', 'Links_in_tags', 'Request_URL', 'Google_Index', 'SFH', 'age_of_domain', 'DNSRecord', 'Links_pointing_to_page', 'Page_Rank', 'having_IP_Address', 'Domain_registeration_length', 'URL_Length', 'double_slash_redirecting', 'Submitting_to_email', 'HTTPS_token', 'Shortining_Service', 'having_At_Symbol']\n",
      "report:                precision    recall  f1-score   support\n",
      "\n",
      "   Not phish       0.84      0.86      0.85      1333\n",
      "       Phish       0.89      0.87      0.88      1668\n",
      "\n",
      "   micro avg       0.87      0.87      0.87      3001\n",
      "   macro avg       0.87      0.87      0.87      3001\n",
      "weighted avg       0.87      0.87      0.87      3001\n",
      "\n",
      "accuracy:  0.8683772075974675\n",
      "roc auc score:  0.871012267455353\n"
     ]
    }
   ],
   "source": [
    "# 20 features\n",
    "a20= selectFeature(clf_rand,clf_tree,dataFrame,trainDF_X, trainDF_y, testDF_X, testDF_y,20)"
   ]
  },
  {
   "cell_type": "code",
   "execution_count": 54,
   "metadata": {},
   "outputs": [
    {
     "name": "stdout",
     "output_type": "stream",
     "text": [
      "features selected:  ['URL_of_Anchor', 'web_traffic', 'having_Sub_Domain', 'Prefix_Suffix', 'Links_in_tags', 'Request_URL', 'Google_Index', 'SFH', 'age_of_domain', 'DNSRecord', 'Links_pointing_to_page', 'Page_Rank', 'having_IP_Address', 'Domain_registeration_length', 'URL_Length', 'double_slash_redirecting', 'Submitting_to_email', 'HTTPS_token', 'Shortining_Service', 'having_At_Symbol', 'Redirect', 'Statistical_report', 'popUpWidnow', 'Abnormal_URL', 'Favicon', 'on_mouseover', 'Iframe']\n",
      "report:                precision    recall  f1-score   support\n",
      "\n",
      "   Not phish       0.85      0.87      0.86      1333\n",
      "       Phish       0.90      0.88      0.89      1668\n",
      "\n",
      "   micro avg       0.88      0.88      0.88      3001\n",
      "   macro avg       0.87      0.88      0.87      3001\n",
      "weighted avg       0.88      0.88      0.88      3001\n",
      "\n",
      "accuracy:  0.8760413195601466\n",
      "roc auc score:  0.8765091452719294\n"
     ]
    }
   ],
   "source": [
    "# 27 features\n",
    "a27= selectFeature(clf_rand,clf_tree,dataFrame,trainDF_X, trainDF_y, testDF_X, testDF_y,27)"
   ]
  },
  {
   "cell_type": "code",
   "execution_count": 55,
   "metadata": {},
   "outputs": [
    {
     "name": "stdout",
     "output_type": "stream",
     "text": [
      "features selected:  ['URL_of_Anchor', 'web_traffic', 'having_Sub_Domain', 'Prefix_Suffix', 'Links_in_tags', 'Request_URL', 'Google_Index', 'SFH', 'age_of_domain', 'DNSRecord', 'Links_pointing_to_page', 'Page_Rank', 'having_IP_Address', 'Domain_registeration_length', 'URL_Length', 'double_slash_redirecting', 'Submitting_to_email', 'HTTPS_token', 'Shortining_Service', 'having_At_Symbol', 'Redirect', 'Statistical_report', 'popUpWidnow', 'Abnormal_URL', 'Favicon', 'on_mouseover', 'Iframe', 'port']\n",
      "report:                precision    recall  f1-score   support\n",
      "\n",
      "   Not phish       0.85      0.87      0.86      1333\n",
      "       Phish       0.89      0.87      0.88      1668\n",
      "\n",
      "   micro avg       0.87      0.87      0.87      3001\n",
      "   macro avg       0.87      0.87      0.87      3001\n",
      "weighted avg       0.87      0.87      0.87      3001\n",
      "\n",
      "accuracy:  0.8710429856714429\n",
      "roc auc score:  0.8716279789371804\n"
     ]
    }
   ],
   "source": [
    "# 28 features\n",
    "a28= selectFeature(clf_rand,clf_tree,dataFrame,trainDF_X, trainDF_y, testDF_X, testDF_y,28)"
   ]
  },
  {
   "cell_type": "markdown",
   "metadata": {},
   "source": [
    "### customize decisionTree"
   ]
  },
  {
   "cell_type": "markdown",
   "metadata": {},
   "source": [
    "## using GridSearchCV"
   ]
  },
  {
   "cell_type": "code",
   "execution_count": 58,
   "metadata": {},
   "outputs": [],
   "source": [
    "from sklearn.model_selection import GridSearchCV, cross_val_score"
   ]
  },
  {
   "cell_type": "code",
   "execution_count": 59,
   "metadata": {},
   "outputs": [],
   "source": [
    "def bestTreeGSCV(treeModel,trainX,trainY):\n",
    "    maxDepths = range(5,30,5)\n",
    "    minImpurityDecreeses = range(0,5)\n",
    "    minSampleSplit = range(1,80)\n",
    "    param_grid = {'criterion':['gini','entropy'], \n",
    "              'max_features' : ['log2','auto','sqrt',0.5,1.0],\n",
    "              'max_depth' :maxDepths,\n",
    "              'min_impurity_decrease' :[0.0,0.1,0.2,0.3],\n",
    "              'min_samples_split': [5,10,30,50,80],\n",
    "              'min_samples_leaf' : [5,10,30,50]\n",
    "             }\n",
    "    gs_inst = GridSearchCV(treeModel,param_grid=param_grid,cv=5, return_train_score=True)\n",
    "    gs_inst.fit(trainX,trainY)\n",
    "    return gs_inst.best_estimator_\n"
   ]
  },
  {
   "cell_type": "code",
   "execution_count": 60,
   "metadata": {},
   "outputs": [
    {
     "data": {
      "text/plain": [
       "DecisionTreeClassifier(class_weight=None, criterion='entropy', max_depth=25,\n",
       "            max_features=1.0, max_leaf_nodes=None,\n",
       "            min_impurity_decrease=0.0, min_impurity_split=None,\n",
       "            min_samples_leaf=10, min_samples_split=30,\n",
       "            min_weight_fraction_leaf=0.0, presort=False, random_state=None,\n",
       "            splitter='best')"
      ]
     },
     "execution_count": 60,
     "metadata": {},
     "output_type": "execute_result"
    }
   ],
   "source": [
    "bestTree = bestTreeGSCV(DecisionTreeClassifier(),trainDF_X, trainDF_y)\n",
    "bestTree"
   ]
  },
  {
   "cell_type": "code",
   "execution_count": 63,
   "metadata": {},
   "outputs": [
    {
     "name": "stdout",
     "output_type": "stream",
     "text": [
      "features selected:  ['URL_of_Anchor', 'web_traffic', 'having_Sub_Domain', 'Prefix_Suffix', 'Links_in_tags', 'Request_URL', 'Google_Index', 'SFH', 'age_of_domain', 'DNSRecord', 'Links_pointing_to_page', 'Page_Rank', 'having_IP_Address', 'Domain_registeration_length', 'URL_Length', 'double_slash_redirecting', 'Submitting_to_email', 'HTTPS_token', 'Shortining_Service', 'having_At_Symbol', 'Redirect', 'Statistical_report', 'popUpWidnow', 'Abnormal_URL', 'Favicon', 'on_mouseover', 'Iframe']\n",
      "report:                precision    recall  f1-score   support\n",
      "\n",
      "   Not phish       0.86      0.86      0.86      1333\n",
      "       Phish       0.89      0.88      0.89      1668\n",
      "\n",
      "   micro avg       0.87      0.87      0.87      3001\n",
      "   macro avg       0.87      0.87      0.87      3001\n",
      "weighted avg       0.87      0.87      0.87      3001\n",
      "\n",
      "accuracy:  0.8740419860046651\n",
      "roc auc score:  0.9480681771162215\n"
     ]
    }
   ],
   "source": [
    "best28features= selectFeature(clf_rand,bestTree,dataFrame,trainDF_X, trainDF_y, testDF_X, testDF_y,27)"
   ]
  },
  {
   "cell_type": "code",
   "execution_count": null,
   "metadata": {},
   "outputs": [],
   "source": []
  }
 ],
 "metadata": {
  "kernelspec": {
   "display_name": "Python 3",
   "language": "python",
   "name": "python3"
  },
  "language_info": {
   "codemirror_mode": {
    "name": "ipython",
    "version": 3
   },
   "file_extension": ".py",
   "mimetype": "text/x-python",
   "name": "python",
   "nbconvert_exporter": "python",
   "pygments_lexer": "ipython3",
   "version": "3.7.3"
  }
 },
 "nbformat": 4,
 "nbformat_minor": 2
}
