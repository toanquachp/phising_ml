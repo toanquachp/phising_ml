{
 "cells": [
  {
   "cell_type": "markdown",
   "metadata": {
    "colab_type": "text",
    "id": "LDk1GBIRO2Q6"
   },
   "source": [
    "## Plot libraries"
   ]
  },
  {
   "cell_type": "code",
   "execution_count": 1,
   "metadata": {
    "colab": {},
    "colab_type": "code",
    "id": "BJBR68NXE99M"
   },
   "outputs": [
    {
     "name": "stderr",
     "output_type": "stream",
     "text": [
      "Using TensorFlow backend.\n"
     ]
    }
   ],
   "source": [
    "# Import libraries\n",
    "import os\n",
    "import numpy as np\n",
    "import matplotlib.pyplot as plt\n",
    "import skimage\n",
    "\n",
    "from sklearn.model_selection import train_test_split\n",
    "from sklearn.model_selection import KFold\n",
    "from sklearn.metrics import classification_report\n",
    "\n",
    "from keras.utils import np_utils\n",
    "\n",
    "from keras.models import Sequential\n",
    "from keras.layers.core import Dense, Dropout, Flatten, Activation"
   ]
  },
  {
   "cell_type": "markdown",
   "metadata": {
    "colab_type": "text",
    "id": "4ImaJbfLn-Ov"
   },
   "source": [
    "## Load data"
   ]
  },
  {
   "cell_type": "code",
   "execution_count": 2,
   "metadata": {
    "colab": {},
    "colab_type": "code",
    "id": "GLzDLZMcFXj8"
   },
   "outputs": [],
   "source": [
    "# # load data\n",
    "# (X, y), (X_test, y_test) = load_data()"
   ]
  },
  {
   "cell_type": "code",
   "execution_count": 3,
   "metadata": {
    "colab": {},
    "colab_type": "code",
    "id": "yld3TXS-oJZw"
   },
   "outputs": [],
   "source": [
    "# Load mnist data\n",
    "def load_data(data_directory):\n",
    "    directories = [\n",
    "        d for d in os.listdir(data_directory) if os.path.isdir(os.path.join(data_directory, d))\n",
    "    ]\n",
    "    labels = []\n",
    "    images = []\n",
    "    for d in directories:\n",
    "        label_directory = os.path.join(data_directory, d)\n",
    "        print(f'reading {data_directory}\\{d}')\n",
    "        file_names = [os.path.join(label_directory, f) for f in os.listdir(label_directory)]\n",
    "        for f in file_names:\n",
    "            images.append(skimage.io.imread(f))\n",
    "            labels.append(int(d))\n",
    "    return images, labels"
   ]
  },
  {
   "cell_type": "code",
   "execution_count": 4,
   "metadata": {
    "colab": {},
    "colab_type": "code",
    "id": "A7eJS8yVmOkn"
   },
   "outputs": [
    {
     "name": "stdout",
     "output_type": "stream",
     "text": [
      "reading C:\\Users\\toanq\\Work\\rmit\\ml_asm2\\data\\training\\0\n",
      "reading C:\\Users\\toanq\\Work\\rmit\\ml_asm2\\data\\training\\1\n",
      "reading C:\\Users\\toanq\\Work\\rmit\\ml_asm2\\data\\training\\2\n",
      "reading C:\\Users\\toanq\\Work\\rmit\\ml_asm2\\data\\training\\3\n",
      "reading C:\\Users\\toanq\\Work\\rmit\\ml_asm2\\data\\training\\4\n",
      "reading C:\\Users\\toanq\\Work\\rmit\\ml_asm2\\data\\training\\5\n",
      "reading C:\\Users\\toanq\\Work\\rmit\\ml_asm2\\data\\training\\6\n",
      "reading C:\\Users\\toanq\\Work\\rmit\\ml_asm2\\data\\training\\7\n",
      "reading C:\\Users\\toanq\\Work\\rmit\\ml_asm2\\data\\training\\8\n",
      "reading C:\\Users\\toanq\\Work\\rmit\\ml_asm2\\data\\training\\9\n",
      "reading C:\\Users\\toanq\\Work\\rmit\\ml_asm2\\data\\testing\\0\n",
      "reading C:\\Users\\toanq\\Work\\rmit\\ml_asm2\\data\\testing\\1\n",
      "reading C:\\Users\\toanq\\Work\\rmit\\ml_asm2\\data\\testing\\2\n",
      "reading C:\\Users\\toanq\\Work\\rmit\\ml_asm2\\data\\testing\\3\n",
      "reading C:\\Users\\toanq\\Work\\rmit\\ml_asm2\\data\\testing\\4\n",
      "reading C:\\Users\\toanq\\Work\\rmit\\ml_asm2\\data\\testing\\5\n",
      "reading C:\\Users\\toanq\\Work\\rmit\\ml_asm2\\data\\testing\\6\n",
      "reading C:\\Users\\toanq\\Work\\rmit\\ml_asm2\\data\\testing\\7\n",
      "reading C:\\Users\\toanq\\Work\\rmit\\ml_asm2\\data\\testing\\8\n",
      "reading C:\\Users\\toanq\\Work\\rmit\\ml_asm2\\data\\testing\\9\n"
     ]
    }
   ],
   "source": [
    "# read data locally\n",
    "train_data_path = os.path.join(os.getcwd(),\"data\",\"training\")\n",
    "test_data_path = os.path.join(os.getcwd(),\"data\",\"testing\")\n",
    "images, labels = load_data(train_data_path)\n",
    "test_images,test_labels = load_data(test_data_path)\n",
    "X = np.asarray(images)\n",
    "X_test = np.asarray(test_images)\n",
    "y = np.asarray(labels)\n",
    "y_test = np.asarray(test_labels)"
   ]
  },
  {
   "cell_type": "code",
   "execution_count": 5,
   "metadata": {
    "colab": {
     "base_uri": "https://localhost:8080/",
     "height": 85
    },
    "colab_type": "code",
    "id": "xlv-5QW-oQhl",
    "outputId": "fc050ed7-ea65-43ee-f345-c19f0630142a"
   },
   "outputs": [
    {
     "name": "stdout",
     "output_type": "stream",
     "text": [
      "Train and validation images: (60000, 28, 28)\n",
      "Train and validation labels: (60000,)\n",
      "Test images: (10000, 28, 28)\n",
      "Test labels: (10000,)\n"
     ]
    }
   ],
   "source": [
    "print(f'Train and validation images: {X.shape}')\n",
    "print(f'Train and validation labels: {y.shape}')\n",
    "print(f'Test images: {X_test.shape}')\n",
    "print(f'Test labels: {y_test.shape}')"
   ]
  },
  {
   "cell_type": "markdown",
   "metadata": {
    "colab_type": "text",
    "id": "xb0XsnZRoebz"
   },
   "source": [
    "### Plot sample data"
   ]
  },
  {
   "cell_type": "code",
   "execution_count": 6,
   "metadata": {
    "colab": {
     "base_uri": "https://localhost:8080/",
     "height": 378
    },
    "colab_type": "code",
    "id": "LQ54rY1aobjV",
    "outputId": "9d3242e6-6d9d-4f92-e1c9-61ff4c5e9309"
   },
   "outputs": [
    {
     "data": {
      "image/png": "[encoded data removed]",
      "text/plain": [
       "<Figure size 432x288 with 4 Axes>"
      ]
     },
     "metadata": {
      "needs_background": "light"
     },
     "output_type": "display_data"
    }
   ],
   "source": [
    "# Sample input\n",
    "plt.subplot(221)\n",
    "plt.imshow(X[0].reshape(28, 28), cmap='gray')\n",
    "plt.subplot(222)\n",
    "plt.imshow(X[1].reshape(28, 28), cmap='gray')\n",
    "plt.subplot(223)\n",
    "plt.imshow(X[2].reshape(28, 28), cmap='gray')\n",
    "plt.subplot(224)\n",
    "plt.imshow(X[3].reshape(28, 28), cmap='gray')\n",
    "plt.show()"
   ]
  },
  {
   "cell_type": "markdown",
   "metadata": {
    "colab_type": "text",
    "id": "1Gg1EZKnoL4f"
   },
   "source": [
    "## Preprocess data and build Data Generator"
   ]
  },
  {
   "cell_type": "code",
   "execution_count": 7,
   "metadata": {
    "colab": {
     "base_uri": "https://localhost:8080/",
     "height": 51
    },
    "colab_type": "code",
    "id": "DxVU2lNWN65o",
    "outputId": "de0e809d-a58a-4a8e-b522-56bb03ab0ecc"
   },
   "outputs": [
    {
     "name": "stderr",
     "output_type": "stream",
     "text": [
      "c:\\users\\toanq\\anaconda3\\envs\\dl\\lib\\site-packages\\sklearn\\model_selection\\_split.py:2179: FutureWarning: From version 0.21, test_size will always complement train_size unless both are specified.\n",
      "  FutureWarning)\n"
     ]
    }
   ],
   "source": [
    "# Preprocessing data\n",
    "\n",
    "# Get number of pixels\n",
    "num_pixels = X.shape[1] * X.shape[2]\n",
    "\n",
    "# Set number of output classes\n",
    "number_of_classes = 10\n",
    "\n",
    "# reshape images to 3D shape with 1 channel for color (this is to serve data augmentation later)\n",
    "# divide all pixels by 255. to constrain input to 0-1 range\n",
    "X = X.astype('float32') / 255.\n",
    "X_test = X_test.astype('float32') / 255.\n",
    "\n",
    "# convert labels to categorical one_hot encoder\n",
    "y = np_utils.to_categorical(y, number_of_classes)\n",
    "y_test = np_utils.to_categorical(y_test, number_of_classes)\n",
    "\n",
    "# Split dataset for single split experiment\n",
    "X_train, X_val, y_train, y_val = train_test_split(X, y, train_size=0.9, stratify=y, random_state=42)"
   ]
  },
  {
   "cell_type": "markdown",
   "metadata": {
    "colab_type": "text",
    "id": "SmGXGGFIosDi"
   },
   "source": [
    "## Build and Train model on single split dataset"
   ]
  },
  {
   "cell_type": "code",
   "execution_count": 8,
   "metadata": {
    "colab": {},
    "colab_type": "code",
    "id": "BVc20il8PKVb"
   },
   "outputs": [],
   "source": [
    "def build_model(node, dropout=0, print_summary=True) -> Sequential:\n",
    "  '''\n",
    "    This function is used to build and compile model\n",
    "    node (int): number of nodes in the hidden layer\n",
    "    dropout (int): percentage of node to drop during training\n",
    "    print_summary (boolean): to print out the \n",
    "  '''\n",
    "  \n",
    "  # Build model\n",
    "  model = Sequential()\n",
    "\n",
    "  # Flatten the input to 1D array (784,)\n",
    "  model.add(Flatten(input_shape=(28, 28)))\n",
    "\n",
    "\n",
    "  # Hidden layer with n number of node\n",
    "  model.add(Dense(node))\n",
    "  model.add(Activation('relu'))\n",
    "\n",
    "  # Add dropout layer to regularize the model\n",
    "  model.add(Dropout(dropout))\n",
    "\n",
    "  # Add output layer\n",
    "  model.add(Dense(number_of_classes, activation='softmax'))\n",
    "\n",
    "  model.compile(loss='categorical_crossentropy', optimizer='adam', metrics=['accuracy'])\n",
    "\n",
    "  if(print_summary):\n",
    "    model.summary()\n",
    "  \n",
    "  return model"
   ]
  },
  {
   "cell_type": "markdown",
   "metadata": {
    "colab_type": "text",
    "id": "6CY1-LNXp2by"
   },
   "source": [
    "### Model 1: 784 hidden node model"
   ]
  },
  {
   "cell_type": "markdown",
   "metadata": {
    "colab_type": "text",
    "id": "pJY5V5PXqA5g"
   },
   "source": [
    "#### Build model"
   ]
  },
  {
   "cell_type": "code",
   "execution_count": 35,
   "metadata": {
    "colab": {
     "base_uri": "https://localhost:8080/",
     "height": 306
    },
    "colab_type": "code",
    "id": "ZBHL7phfqALk",
    "outputId": "e24f370d-ffa8-4e27-bc9e-e0b6fcb03230"
   },
   "outputs": [
    {
     "name": "stdout",
     "output_type": "stream",
     "text": [
      "_________________________________________________________________\n",
      "Layer (type)                 Output Shape              Param #   \n",
      "=================================================================\n",
      "flatten_11 (Flatten)         (None, 784)               0         \n",
      "_________________________________________________________________\n",
      "dense_21 (Dense)             (None, 784)               615440    \n",
      "_________________________________________________________________\n",
      "activation_11 (Activation)   (None, 784)               0         \n",
      "_________________________________________________________________\n",
      "dropout_11 (Dropout)         (None, 784)               0         \n",
      "_________________________________________________________________\n",
      "dense_22 (Dense)             (None, 10)                7850      \n",
      "=================================================================\n",
      "Total params: 623,290\n",
      "Trainable params: 623,290\n",
      "Non-trainable params: 0\n",
      "_________________________________________________________________\n"
     ]
    }
   ],
   "source": [
    "model = build_model(784, 0)"
   ]
  },
  {
   "cell_type": "markdown",
   "metadata": {
    "colab_type": "text",
    "id": "Y7eAnFRAqBm_"
   },
   "source": [
    "#### Train model "
   ]
  },
  {
   "cell_type": "code",
   "execution_count": 36,
   "metadata": {
    "colab": {
     "base_uri": "https://localhost:8080/",
     "height": 1054
    },
    "colab_type": "code",
    "id": "DsN7fgYVqB_D",
    "outputId": "6932a0f8-7837-4f71-cc73-9f53c5194714"
   },
   "outputs": [
    {
     "name": "stdout",
     "output_type": "stream",
     "text": [
      "Train on 54000 samples, validate on 6000 samples\n",
      "Epoch 1/30\n",
      "54000/54000 [==============================] - 7s 136us/step - loss: 0.4840 - acc: 0.8250 - val_loss: 0.3801 - val_acc: 0.8608\n",
      "Epoch 2/30\n",
      "54000/54000 [==============================] - 7s 121us/step - loss: 0.3668 - acc: 0.8663 - val_loss: 0.3392 - val_acc: 0.8798\n",
      "Epoch 3/30\n",
      "54000/54000 [==============================] - 7s 121us/step - loss: 0.3286 - acc: 0.8791 - val_loss: 0.3525 - val_acc: 0.8692\n",
      "Epoch 4/30\n",
      "54000/54000 [==============================] - 7s 121us/step - loss: 0.3015 - acc: 0.8879 - val_loss: 0.3175 - val_acc: 0.8837\n",
      "Epoch 5/30\n",
      "54000/54000 [==============================] - 7s 121us/step - loss: 0.2841 - acc: 0.8941 - val_loss: 0.3265 - val_acc: 0.8855\n",
      "Epoch 6/30\n",
      "54000/54000 [==============================] - 7s 121us/step - loss: 0.2702 - acc: 0.8981 - val_loss: 0.2857 - val_acc: 0.8983\n",
      "Epoch 7/30\n",
      "54000/54000 [==============================] - 7s 121us/step - loss: 0.2573 - acc: 0.9027 - val_loss: 0.3022 - val_acc: 0.8887\n",
      "Epoch 8/30\n",
      "54000/54000 [==============================] - 7s 120us/step - loss: 0.2427 - acc: 0.9080 - val_loss: 0.3011 - val_acc: 0.8913\n",
      "Epoch 9/30\n",
      "54000/54000 [==============================] - 7s 121us/step - loss: 0.2321 - acc: 0.9121 - val_loss: 0.3115 - val_acc: 0.8873\n",
      "Epoch 10/30\n",
      "54000/54000 [==============================] - 7s 121us/step - loss: 0.2240 - acc: 0.9167 - val_loss: 0.2898 - val_acc: 0.9003\n",
      "Epoch 11/30\n",
      "54000/54000 [==============================] - 7s 121us/step - loss: 0.2133 - acc: 0.9195 - val_loss: 0.2964 - val_acc: 0.8958\n",
      "Epoch 12/30\n",
      "54000/54000 [==============================] - 7s 120us/step - loss: 0.2061 - acc: 0.9229 - val_loss: 0.3105 - val_acc: 0.8980\n",
      "Epoch 13/30\n",
      "54000/54000 [==============================] - 7s 121us/step - loss: 0.2007 - acc: 0.9246 - val_loss: 0.3105 - val_acc: 0.8963\n",
      "Epoch 14/30\n",
      "54000/54000 [==============================] - 6s 120us/step - loss: 0.1928 - acc: 0.9275 - val_loss: 0.3197 - val_acc: 0.8918\n",
      "Epoch 15/30\n",
      "54000/54000 [==============================] - 7s 123us/step - loss: 0.1865 - acc: 0.9291 - val_loss: 0.3101 - val_acc: 0.8960\n",
      "Epoch 16/30\n",
      "54000/54000 [==============================] - 7s 122us/step - loss: 0.1770 - acc: 0.9327 - val_loss: 0.3237 - val_acc: 0.8945\n",
      "Epoch 17/30\n",
      "54000/54000 [==============================] - 7s 120us/step - loss: 0.1715 - acc: 0.9339 - val_loss: 0.3273 - val_acc: 0.8983\n",
      "Epoch 18/30\n",
      "54000/54000 [==============================] - 6s 119us/step - loss: 0.1677 - acc: 0.9366 - val_loss: 0.3103 - val_acc: 0.8997\n",
      "Epoch 19/30\n",
      "54000/54000 [==============================] - 7s 122us/step - loss: 0.1626 - acc: 0.9378 - val_loss: 0.3324 - val_acc: 0.8990\n",
      "Epoch 20/30\n",
      "54000/54000 [==============================] - 7s 122us/step - loss: 0.1564 - acc: 0.9405 - val_loss: 0.3256 - val_acc: 0.8960\n",
      "Epoch 21/30\n",
      "54000/54000 [==============================] - 7s 121us/step - loss: 0.1525 - acc: 0.9422 - val_loss: 0.3512 - val_acc: 0.8985\n",
      "Epoch 22/30\n",
      "54000/54000 [==============================] - 6s 119us/step - loss: 0.1476 - acc: 0.9443 - val_loss: 0.3321 - val_acc: 0.8965\n",
      "Epoch 23/30\n",
      "54000/54000 [==============================] - 7s 124us/step - loss: 0.1446 - acc: 0.9449 - val_loss: 0.3524 - val_acc: 0.8957\n",
      "Epoch 24/30\n",
      "54000/54000 [==============================] - 7s 122us/step - loss: 0.1405 - acc: 0.9469 - val_loss: 0.3374 - val_acc: 0.9002\n",
      "Epoch 25/30\n",
      "54000/54000 [==============================] - 7s 122us/step - loss: 0.1364 - acc: 0.9482 - val_loss: 0.3523 - val_acc: 0.8993\n",
      "Epoch 26/30\n",
      "54000/54000 [==============================] - 7s 121us/step - loss: 0.1320 - acc: 0.9497 - val_loss: 0.3507 - val_acc: 0.9020\n",
      "Epoch 27/30\n",
      "54000/54000 [==============================] - 6s 120us/step - loss: 0.1270 - acc: 0.9513 - val_loss: 0.3467 - val_acc: 0.9017\n",
      "Epoch 28/30\n",
      "54000/54000 [==============================] - 7s 123us/step - loss: 0.1263 - acc: 0.9526 - val_loss: 0.3523 - val_acc: 0.9008\n",
      "Epoch 29/30\n",
      "54000/54000 [==============================] - 7s 124us/step - loss: 0.1223 - acc: 0.9532 - val_loss: 0.3794 - val_acc: 0.8940\n",
      "Epoch 30/30\n",
      "54000/54000 [==============================] - 7s 123us/step - loss: 0.1218 - acc: 0.9538 - val_loss: 0.4089 - val_acc: 0.8940\n"
     ]
    }
   ],
   "source": [
    "#train_model \n",
    "H= model.fit(X_train, y_train, epochs=30, validation_data=(X_val, y_val))"
   ]
  },
  {
   "cell_type": "markdown",
   "metadata": {
    "colab_type": "text",
    "id": "tOqcYamzsKqu"
   },
   "source": [
    "#### Plot performance"
   ]
  },
  {
   "cell_type": "code",
   "execution_count": 37,
   "metadata": {
    "colab": {
     "base_uri": "https://localhost:8080/",
     "height": 312
    },
    "colab_type": "code",
    "id": "m5GB86gfqDGB",
    "outputId": "6b1558d6-8a35-4c61-bb03-d299db6f1b4d"
   },
   "outputs": [
    {
     "data": {
      "image/png": "[encoded data removed]",
      "text/plain": [
       "<Figure size 576x432 with 1 Axes>"
      ]
     },
     "metadata": {
      "needs_background": "light"
     },
     "output_type": "display_data"
    }
   ],
   "source": [
    "# Get model performance\n",
    "training_accuracy = H.history['acc']\n",
    "validation_accuracy = H.history['val_acc']\n",
    "training_error = H.history['loss']\n",
    "validation_error = H.history['val_loss']\n",
    "\n",
    "# Plot performance\n",
    "plt.figure(0)\n",
    "plt.plot(training_accuracy,'r')\n",
    "plt.plot(validation_accuracy,'g')\n",
    "plt.xticks(np.arange(0, len(training_accuracy), 2.0))\n",
    "plt.rcParams['figure.figsize'] = (8, 6)\n",
    "plt.xlabel(\"Num of Epochs\")\n",
    "plt.ylabel(\"Accuracy\")\n",
    "plt.title(\"Training Accuracy vs Validation Accuracy\")\n",
    "plt.legend(['train','validation'])\n",
    "plt.savefig('model1.png', transparent=True)"
   ]
  },
  {
   "cell_type": "markdown",
   "metadata": {
    "colab_type": "text",
    "id": "fMyyqeUl87AQ"
   },
   "source": [
    "### Model 2: 256 hidden node model"
   ]
  },
  {
   "cell_type": "markdown",
   "metadata": {
    "colab_type": "text",
    "id": "EEeUVrc6891T"
   },
   "source": [
    "#### Build model"
   ]
  },
  {
   "cell_type": "code",
   "execution_count": 40,
   "metadata": {
    "colab": {
     "base_uri": "https://localhost:8080/",
     "height": 306
    },
    "colab_type": "code",
    "id": "ef88kKq_9BqQ",
    "outputId": "3531495a-571d-48c8-f8ac-2e1e2a072987"
   },
   "outputs": [
    {
     "name": "stdout",
     "output_type": "stream",
     "text": [
      "_________________________________________________________________\n",
      "Layer (type)                 Output Shape              Param #   \n",
      "=================================================================\n",
      "flatten_12 (Flatten)         (None, 784)               0         \n",
      "_________________________________________________________________\n",
      "dense_23 (Dense)             (None, 256)               200960    \n",
      "_________________________________________________________________\n",
      "activation_12 (Activation)   (None, 256)               0         \n",
      "_________________________________________________________________\n",
      "dropout_12 (Dropout)         (None, 256)               0         \n",
      "_________________________________________________________________\n",
      "dense_24 (Dense)             (None, 10)                2570      \n",
      "=================================================================\n",
      "Total params: 203,530\n",
      "Trainable params: 203,530\n",
      "Non-trainable params: 0\n",
      "_________________________________________________________________\n"
     ]
    }
   ],
   "source": [
    "model = build_model(256, 0)"
   ]
  },
  {
   "cell_type": "markdown",
   "metadata": {
    "colab_type": "text",
    "id": "Hy-Q1MQk9br6"
   },
   "source": [
    "#### Train model"
   ]
  },
  {
   "cell_type": "code",
   "execution_count": 41,
   "metadata": {
    "colab": {
     "base_uri": "https://localhost:8080/",
     "height": 1054
    },
    "colab_type": "code",
    "id": "bcgh33VH9cAz",
    "outputId": "f17aa4a0-dbc3-4957-c475-94cdc4f1ab06"
   },
   "outputs": [
    {
     "name": "stdout",
     "output_type": "stream",
     "text": [
      "Train on 54000 samples, validate on 6000 samples\n",
      "Epoch 1/30\n",
      "54000/54000 [==============================] - 3s 64us/step - loss: 0.5076 - acc: 0.8240 - val_loss: 0.4040 - val_acc: 0.8598\n",
      "Epoch 2/30\n",
      "54000/54000 [==============================] - 3s 51us/step - loss: 0.3821 - acc: 0.8635 - val_loss: 0.3657 - val_acc: 0.8680\n",
      "Epoch 3/30\n",
      "54000/54000 [==============================] - 3s 52us/step - loss: 0.3401 - acc: 0.8759 - val_loss: 0.3671 - val_acc: 0.8587\n",
      "Epoch 4/30\n",
      "54000/54000 [==============================] - 3s 50us/step - loss: 0.3140 - acc: 0.8841 - val_loss: 0.3057 - val_acc: 0.8875\n",
      "Epoch 5/30\n",
      "54000/54000 [==============================] - 3s 48us/step - loss: 0.2918 - acc: 0.8916 - val_loss: 0.2982 - val_acc: 0.8923\n",
      "Epoch 6/30\n",
      "54000/54000 [==============================] - 3s 48us/step - loss: 0.2775 - acc: 0.8974 - val_loss: 0.3196 - val_acc: 0.8803\n",
      "Epoch 7/30\n",
      "54000/54000 [==============================] - 3s 48us/step - loss: 0.2665 - acc: 0.9015 - val_loss: 0.3144 - val_acc: 0.8847\n",
      "Epoch 8/30\n",
      "54000/54000 [==============================] - 3s 49us/step - loss: 0.2530 - acc: 0.9053 - val_loss: 0.2875 - val_acc: 0.8963\n",
      "Epoch 9/30\n",
      "54000/54000 [==============================] - 3s 48us/step - loss: 0.2452 - acc: 0.9079 - val_loss: 0.2878 - val_acc: 0.8992\n",
      "Epoch 10/30\n",
      "54000/54000 [==============================] - 3s 50us/step - loss: 0.2357 - acc: 0.9117 - val_loss: 0.2682 - val_acc: 0.9028\n",
      "Epoch 11/30\n",
      "54000/54000 [==============================] - 3s 48us/step - loss: 0.2238 - acc: 0.9161 - val_loss: 0.3038 - val_acc: 0.8915\n",
      "Epoch 12/30\n",
      "54000/54000 [==============================] - 3s 51us/step - loss: 0.2167 - acc: 0.9183 - val_loss: 0.2929 - val_acc: 0.8940\n",
      "Epoch 13/30\n",
      "54000/54000 [==============================] - 3s 49us/step - loss: 0.2068 - acc: 0.9221 - val_loss: 0.2953 - val_acc: 0.8970\n",
      "Epoch 14/30\n",
      "54000/54000 [==============================] - 3s 49us/step - loss: 0.2023 - acc: 0.9241 - val_loss: 0.3115 - val_acc: 0.8873\n",
      "Epoch 15/30\n",
      "54000/54000 [==============================] - 3s 49us/step - loss: 0.1928 - acc: 0.9271 - val_loss: 0.2868 - val_acc: 0.8998\n",
      "Epoch 16/30\n",
      "54000/54000 [==============================] - 3s 49us/step - loss: 0.1858 - acc: 0.9300 - val_loss: 0.2800 - val_acc: 0.9030\n",
      "Epoch 17/30\n",
      "54000/54000 [==============================] - 3s 48us/step - loss: 0.1822 - acc: 0.9313 - val_loss: 0.3027 - val_acc: 0.8965\n",
      "Epoch 18/30\n",
      "54000/54000 [==============================] - 3s 48us/step - loss: 0.1779 - acc: 0.9326 - val_loss: 0.2756 - val_acc: 0.9085\n",
      "Epoch 19/30\n",
      "54000/54000 [==============================] - 3s 48us/step - loss: 0.1684 - acc: 0.9363 - val_loss: 0.3191 - val_acc: 0.8955\n",
      "Epoch 20/30\n",
      "54000/54000 [==============================] - 3s 50us/step - loss: 0.1648 - acc: 0.9387 - val_loss: 0.3033 - val_acc: 0.8993\n",
      "Epoch 21/30\n",
      "54000/54000 [==============================] - 3s 49us/step - loss: 0.1581 - acc: 0.9416 - val_loss: 0.2904 - val_acc: 0.9040\n",
      "Epoch 22/30\n",
      "54000/54000 [==============================] - 3s 49us/step - loss: 0.1525 - acc: 0.9425 - val_loss: 0.2982 - val_acc: 0.9025\n",
      "Epoch 23/30\n",
      "54000/54000 [==============================] - 3s 49us/step - loss: 0.1490 - acc: 0.9442 - val_loss: 0.3194 - val_acc: 0.8982\n",
      "Epoch 24/30\n",
      "54000/54000 [==============================] - 3s 50us/step - loss: 0.1451 - acc: 0.9451 - val_loss: 0.3175 - val_acc: 0.9017\n",
      "Epoch 25/30\n",
      "54000/54000 [==============================] - 3s 48us/step - loss: 0.1432 - acc: 0.9456 - val_loss: 0.3111 - val_acc: 0.9020\n",
      "Epoch 26/30\n",
      "54000/54000 [==============================] - 3s 48us/step - loss: 0.1349 - acc: 0.9489 - val_loss: 0.3199 - val_acc: 0.8977\n",
      "Epoch 27/30\n",
      "54000/54000 [==============================] - 3s 48us/step - loss: 0.1342 - acc: 0.9488 - val_loss: 0.3173 - val_acc: 0.8997\n",
      "Epoch 28/30\n",
      "54000/54000 [==============================] - 3s 48us/step - loss: 0.1294 - acc: 0.9513 - val_loss: 0.3329 - val_acc: 0.8932\n",
      "Epoch 29/30\n",
      "54000/54000 [==============================] - 3s 47us/step - loss: 0.1267 - acc: 0.9526 - val_loss: 0.3525 - val_acc: 0.8988\n",
      "Epoch 30/30\n",
      "54000/54000 [==============================] - 3s 48us/step - loss: 0.1216 - acc: 0.9546 - val_loss: 0.3280 - val_acc: 0.9028\n"
     ]
    }
   ],
   "source": [
    "#train_model \n",
    "H = model.fit(X_train, y_train, batch_size=64, epochs=30, validation_data=(X_val, y_val))"
   ]
  },
  {
   "cell_type": "markdown",
   "metadata": {
    "colab_type": "text",
    "id": "kj9rt_2V9iDh"
   },
   "source": [
    "#### Plot performance"
   ]
  },
  {
   "cell_type": "code",
   "execution_count": 42,
   "metadata": {
    "colab": {
     "base_uri": "https://localhost:8080/",
     "height": 421
    },
    "colab_type": "code",
    "id": "pmffJ7WO9l_8",
    "outputId": "e83fe8fc-d898-41ac-e9cb-eb361ebccf02"
   },
   "outputs": [
    {
     "data": {
      "image/png": "[encoded data removed]",
      "text/plain": [
       "<Figure size 576x432 with 1 Axes>"
      ]
     },
     "metadata": {
      "needs_background": "light"
     },
     "output_type": "display_data"
    }
   ],
   "source": [
    "# Get model performance\n",
    "training_accuracy = H.history['acc']\n",
    "validation_accuracy = H.history['val_acc']\n",
    "training_error = H.history['loss']\n",
    "validation_error = H.history['val_loss']\n",
    "\n",
    "# Plot performance\n",
    "plt.figure(0)\n",
    "plt.plot(training_accuracy,'r')\n",
    "plt.plot(validation_accuracy,'g')\n",
    "plt.xticks(np.arange(0, len(training_accuracy), 2.0))\n",
    "plt.rcParams['figure.figsize'] = (8, 6)\n",
    "plt.xlabel(\"Num of Epochs\")\n",
    "plt.ylabel(\"Accuracy\")\n",
    "plt.title(\"Training Accuracy vs Validation Accuracy\")\n",
    "plt.legend(['train','validation'])\n",
    "plt.savefig('model2.png', transparent=True)"
   ]
  },
  {
   "cell_type": "markdown",
   "metadata": {
    "colab_type": "text",
    "id": "HMInc-brIgMq"
   },
   "source": [
    "### Model 3: 32 hidden node model"
   ]
  },
  {
   "cell_type": "markdown",
   "metadata": {
    "colab_type": "text",
    "id": "2EEABvkVI6uQ"
   },
   "source": [
    "#### Build model"
   ]
  },
  {
   "cell_type": "code",
   "execution_count": 44,
   "metadata": {
    "colab": {
     "base_uri": "https://localhost:8080/",
     "height": 306
    },
    "colab_type": "code",
    "id": "C0c6ijQ0qC5K",
    "outputId": "e4fbc33a-f738-424d-9e9d-7e82a21611bc"
   },
   "outputs": [
    {
     "name": "stdout",
     "output_type": "stream",
     "text": [
      "_________________________________________________________________\n",
      "Layer (type)                 Output Shape              Param #   \n",
      "=================================================================\n",
      "flatten_13 (Flatten)         (None, 784)               0         \n",
      "_________________________________________________________________\n",
      "dense_25 (Dense)             (None, 32)                25120     \n",
      "_________________________________________________________________\n",
      "activation_13 (Activation)   (None, 32)                0         \n",
      "_________________________________________________________________\n",
      "dropout_13 (Dropout)         (None, 32)                0         \n",
      "_________________________________________________________________\n",
      "dense_26 (Dense)             (None, 10)                330       \n",
      "=================================================================\n",
      "Total params: 25,450\n",
      "Trainable params: 25,450\n",
      "Non-trainable params: 0\n",
      "_________________________________________________________________\n"
     ]
    }
   ],
   "source": [
    "model = build_model(32)"
   ]
  },
  {
   "cell_type": "markdown",
   "metadata": {
    "colab_type": "text",
    "id": "ZlTQ4LDxJVd9"
   },
   "source": [
    "#### Train model "
   ]
  },
  {
   "cell_type": "code",
   "execution_count": 45,
   "metadata": {
    "colab": {
     "base_uri": "https://localhost:8080/",
     "height": 1054
    },
    "colab_type": "code",
    "id": "2IWYuS3UIf2D",
    "outputId": "c816998c-86c9-48b8-8ea7-b4599e4306d8"
   },
   "outputs": [
    {
     "name": "stdout",
     "output_type": "stream",
     "text": [
      "Train on 54000 samples, validate on 6000 samples\n",
      "Epoch 1/30\n",
      "54000/54000 [==============================] - 3s 52us/step - loss: 0.5910 - acc: 0.8019 - val_loss: 0.4444 - val_acc: 0.8440\n",
      "Epoch 2/30\n",
      "54000/54000 [==============================] - 2s 43us/step - loss: 0.4327 - acc: 0.8495 - val_loss: 0.4316 - val_acc: 0.8468\n",
      "Epoch 3/30\n",
      "54000/54000 [==============================] - 2s 44us/step - loss: 0.3966 - acc: 0.8599 - val_loss: 0.3919 - val_acc: 0.8593\n",
      "Epoch 4/30\n",
      "54000/54000 [==============================] - 2s 43us/step - loss: 0.3748 - acc: 0.8678 - val_loss: 0.3536 - val_acc: 0.8737\n",
      "Epoch 5/30\n",
      "54000/54000 [==============================] - 2s 45us/step - loss: 0.3568 - acc: 0.8736 - val_loss: 0.3726 - val_acc: 0.8678\n",
      "Epoch 6/30\n",
      "54000/54000 [==============================] - 2s 43us/step - loss: 0.3429 - acc: 0.8773 - val_loss: 0.3452 - val_acc: 0.8775\n",
      "Epoch 7/30\n",
      "54000/54000 [==============================] - 2s 42us/step - loss: 0.3322 - acc: 0.8812 - val_loss: 0.3620 - val_acc: 0.8658\n",
      "Epoch 8/30\n",
      "54000/54000 [==============================] - 2s 43us/step - loss: 0.3232 - acc: 0.8840 - val_loss: 0.3262 - val_acc: 0.8828\n",
      "Epoch 9/30\n",
      "54000/54000 [==============================] - 2s 42us/step - loss: 0.3141 - acc: 0.8854 - val_loss: 0.3301 - val_acc: 0.8822\n",
      "Epoch 10/30\n",
      "54000/54000 [==============================] - 2s 44us/step - loss: 0.3087 - acc: 0.8876 - val_loss: 0.3323 - val_acc: 0.8783\n",
      "Epoch 11/30\n",
      "54000/54000 [==============================] - 2s 42us/step - loss: 0.2983 - acc: 0.8923 - val_loss: 0.3180 - val_acc: 0.8898\n",
      "Epoch 12/30\n",
      "54000/54000 [==============================] - 2s 43us/step - loss: 0.2953 - acc: 0.8921 - val_loss: 0.3290 - val_acc: 0.8837\n",
      "Epoch 13/30\n",
      "54000/54000 [==============================] - 2s 42us/step - loss: 0.2890 - acc: 0.8945 - val_loss: 0.3259 - val_acc: 0.8837\n",
      "Epoch 14/30\n",
      "54000/54000 [==============================] - 2s 43us/step - loss: 0.2835 - acc: 0.8959 - val_loss: 0.3218 - val_acc: 0.8860\n",
      "Epoch 15/30\n",
      "54000/54000 [==============================] - 2s 42us/step - loss: 0.2783 - acc: 0.8973 - val_loss: 0.3201 - val_acc: 0.8873\n",
      "Epoch 16/30\n",
      "54000/54000 [==============================] - 2s 43us/step - loss: 0.2740 - acc: 0.9000 - val_loss: 0.3137 - val_acc: 0.8888\n",
      "Epoch 17/30\n",
      "54000/54000 [==============================] - 2s 42us/step - loss: 0.2706 - acc: 0.9019 - val_loss: 0.3210 - val_acc: 0.8835\n",
      "Epoch 18/30\n",
      "54000/54000 [==============================] - 2s 43us/step - loss: 0.2679 - acc: 0.9008 - val_loss: 0.3118 - val_acc: 0.8915\n",
      "Epoch 19/30\n",
      "54000/54000 [==============================] - 2s 43us/step - loss: 0.2609 - acc: 0.9045 - val_loss: 0.3224 - val_acc: 0.8828\n",
      "Epoch 20/30\n",
      "54000/54000 [==============================] - 2s 42us/step - loss: 0.2577 - acc: 0.9046 - val_loss: 0.3200 - val_acc: 0.8858\n",
      "Epoch 21/30\n",
      "54000/54000 [==============================] - 2s 42us/step - loss: 0.2556 - acc: 0.9066 - val_loss: 0.3209 - val_acc: 0.8903\n",
      "Epoch 22/30\n",
      "54000/54000 [==============================] - 2s 41us/step - loss: 0.2526 - acc: 0.9058 - val_loss: 0.3207 - val_acc: 0.8867\n",
      "Epoch 23/30\n",
      "54000/54000 [==============================] - 2s 44us/step - loss: 0.2488 - acc: 0.9090 - val_loss: 0.3472 - val_acc: 0.8813\n",
      "Epoch 24/30\n",
      "54000/54000 [==============================] - 2s 44us/step - loss: 0.2473 - acc: 0.9086 - val_loss: 0.3307 - val_acc: 0.8858\n",
      "Epoch 25/30\n",
      "54000/54000 [==============================] - 2s 45us/step - loss: 0.2420 - acc: 0.9108 - val_loss: 0.3182 - val_acc: 0.8880\n",
      "Epoch 26/30\n",
      "54000/54000 [==============================] - 2s 44us/step - loss: 0.2395 - acc: 0.9108 - val_loss: 0.3168 - val_acc: 0.8897\n",
      "Epoch 27/30\n",
      "54000/54000 [==============================] - 2s 44us/step - loss: 0.2372 - acc: 0.9134 - val_loss: 0.3270 - val_acc: 0.8840\n",
      "Epoch 28/30\n",
      "54000/54000 [==============================] - 2s 45us/step - loss: 0.2351 - acc: 0.9138 - val_loss: 0.3185 - val_acc: 0.8893\n",
      "Epoch 29/30\n",
      "54000/54000 [==============================] - 3s 46us/step - loss: 0.2326 - acc: 0.9150 - val_loss: 0.3294 - val_acc: 0.8868\n",
      "Epoch 30/30\n",
      "54000/54000 [==============================] - 2s 46us/step - loss: 0.2285 - acc: 0.9158 - val_loss: 0.3312 - val_acc: 0.8853\n"
     ]
    }
   ],
   "source": [
    "#train_model \n",
    "H = model.fit(X_train, y_train, batch_size=64, epochs=30, validation_data=(X_val, y_val))"
   ]
  },
  {
   "cell_type": "markdown",
   "metadata": {
    "colab_type": "text",
    "id": "3SeLgWhuJg5d"
   },
   "source": [
    "#### Plot performance"
   ]
  },
  {
   "cell_type": "code",
   "execution_count": 47,
   "metadata": {
    "colab": {
     "base_uri": "https://localhost:8080/",
     "height": 421
    },
    "colab_type": "code",
    "id": "GY3d7MIgIfyu",
    "outputId": "4a3b530d-dc44-48c8-9cd0-cbbe23a4548c"
   },
   "outputs": [
    {
     "data": {
      "image/png": "[encoded data removed]",
      "text/plain": [
       "<Figure size 576x432 with 1 Axes>"
      ]
     },
     "metadata": {
      "needs_background": "light"
     },
     "output_type": "display_data"
    }
   ],
   "source": [
    "# Get model performance\n",
    "training_accuracy = H.history['acc']\n",
    "validation_accuracy = H.history['val_acc']\n",
    "training_error = H.history['loss']\n",
    "validation_error = H.history['val_loss']\n",
    "\n",
    "# Plot performance\n",
    "plt.figure(0)\n",
    "plt.plot(training_accuracy,'r')\n",
    "plt.plot(validation_accuracy,'g')\n",
    "plt.xticks(np.arange(0, len(training_accuracy), 2.0))\n",
    "plt.rcParams['figure.figsize'] = (8, 6)\n",
    "plt.xlabel(\"Num of Epochs\")\n",
    "plt.ylabel(\"Accuracy\")\n",
    "plt.title(\"Training Accuracy vs Validation Accuracy\")\n",
    "plt.legend(['train','validation'])\n",
    "plt.savefig('model3.png', transparent=True)"
   ]
  },
  {
   "cell_type": "markdown",
   "metadata": {
    "colab_type": "text",
    "id": "4jxDHwm6VVJn"
   },
   "source": [
    "### Model 4: Model with Dropout 40% - 784 hidden nodes"
   ]
  },
  {
   "cell_type": "markdown",
   "metadata": {
    "colab_type": "text",
    "id": "i7QxkkoLV0NS"
   },
   "source": [
    "#### Build model "
   ]
  },
  {
   "cell_type": "code",
   "execution_count": 57,
   "metadata": {
    "colab": {
     "base_uri": "https://localhost:8080/",
     "height": 357
    },
    "colab_type": "code",
    "id": "EZmytNs6IfmT",
    "outputId": "1f8e764a-c977-4a30-f615-6c5094b62ebb"
   },
   "outputs": [
    {
     "name": "stdout",
     "output_type": "stream",
     "text": [
      "_________________________________________________________________\n",
      "Layer (type)                 Output Shape              Param #   \n",
      "=================================================================\n",
      "flatten_16 (Flatten)         (None, 784)               0         \n",
      "_________________________________________________________________\n",
      "dense_31 (Dense)             (None, 784)               615440    \n",
      "_________________________________________________________________\n",
      "activation_16 (Activation)   (None, 784)               0         \n",
      "_________________________________________________________________\n",
      "dropout_16 (Dropout)         (None, 784)               0         \n",
      "_________________________________________________________________\n",
      "dense_32 (Dense)             (None, 10)                7850      \n",
      "=================================================================\n",
      "Total params: 623,290\n",
      "Trainable params: 623,290\n",
      "Non-trainable params: 0\n",
      "_________________________________________________________________\n"
     ]
    }
   ],
   "source": [
    "model = build_model(784, 0.4)"
   ]
  },
  {
   "cell_type": "markdown",
   "metadata": {
    "colab_type": "text",
    "id": "CKv42YFdWYrN"
   },
   "source": [
    "#### Train model "
   ]
  },
  {
   "cell_type": "code",
   "execution_count": 58,
   "metadata": {
    "colab": {
     "base_uri": "https://localhost:8080/",
     "height": 1734
    },
    "colab_type": "code",
    "id": "tHfWy8ymIfjV",
    "outputId": "7d70b666-f404-40c3-a7ce-09bcb954c5a6"
   },
   "outputs": [
    {
     "name": "stdout",
     "output_type": "stream",
     "text": [
      "Train on 54000 samples, validate on 6000 samples\n",
      "Epoch 1/50\n",
      "54000/54000 [==============================] - 4s 82us/step - loss: 0.5372 - acc: 0.8071 - val_loss: 0.4076 - val_acc: 0.8522\n",
      "Epoch 2/50\n",
      "54000/54000 [==============================] - 4s 65us/step - loss: 0.4120 - acc: 0.8495 - val_loss: 0.4051 - val_acc: 0.8535\n",
      "Epoch 3/50\n",
      "54000/54000 [==============================] - 4s 65us/step - loss: 0.3814 - acc: 0.8611 - val_loss: 0.3267 - val_acc: 0.8778\n",
      "Epoch 4/50\n",
      "54000/54000 [==============================] - 4s 65us/step - loss: 0.3559 - acc: 0.8689 - val_loss: 0.3175 - val_acc: 0.8823\n",
      "Epoch 5/50\n",
      "54000/54000 [==============================] - 4s 66us/step - loss: 0.3420 - acc: 0.8752 - val_loss: 0.3165 - val_acc: 0.8850\n",
      "Epoch 6/50\n",
      "54000/54000 [==============================] - 4s 65us/step - loss: 0.3322 - acc: 0.8763 - val_loss: 0.3061 - val_acc: 0.8863\n",
      "Epoch 7/50\n",
      "54000/54000 [==============================] - 4s 66us/step - loss: 0.3179 - acc: 0.8827 - val_loss: 0.2980 - val_acc: 0.8913\n",
      "Epoch 8/50\n",
      "54000/54000 [==============================] - 4s 65us/step - loss: 0.3116 - acc: 0.8834 - val_loss: 0.3055 - val_acc: 0.8893\n",
      "Epoch 9/50\n",
      "54000/54000 [==============================] - 4s 65us/step - loss: 0.3021 - acc: 0.8870 - val_loss: 0.2903 - val_acc: 0.8938\n",
      "Epoch 10/50\n",
      "54000/54000 [==============================] - 4s 66us/step - loss: 0.2958 - acc: 0.8905 - val_loss: 0.2862 - val_acc: 0.8983\n",
      "Epoch 11/50\n",
      "54000/54000 [==============================] - 4s 65us/step - loss: 0.2856 - acc: 0.8935 - val_loss: 0.2832 - val_acc: 0.9002\n",
      "Epoch 12/50\n",
      "54000/54000 [==============================] - 4s 65us/step - loss: 0.2815 - acc: 0.8946 - val_loss: 0.2932 - val_acc: 0.8915\n",
      "Epoch 13/50\n",
      "54000/54000 [==============================] - 4s 65us/step - loss: 0.2768 - acc: 0.8968 - val_loss: 0.2845 - val_acc: 0.8947\n",
      "Epoch 14/50\n",
      "54000/54000 [==============================] - 4s 66us/step - loss: 0.2726 - acc: 0.8964 - val_loss: 0.2818 - val_acc: 0.8995\n",
      "Epoch 15/50\n",
      "54000/54000 [==============================] - 4s 65us/step - loss: 0.2633 - acc: 0.9010 - val_loss: 0.2707 - val_acc: 0.9017\n",
      "Epoch 16/50\n",
      "54000/54000 [==============================] - 4s 66us/step - loss: 0.2614 - acc: 0.9018 - val_loss: 0.2795 - val_acc: 0.8983\n",
      "Epoch 17/50\n",
      "54000/54000 [==============================] - 4s 65us/step - loss: 0.2524 - acc: 0.9051 - val_loss: 0.2977 - val_acc: 0.8910\n",
      "Epoch 18/50\n",
      "54000/54000 [==============================] - 4s 65us/step - loss: 0.2528 - acc: 0.9049 - val_loss: 0.2835 - val_acc: 0.9010\n",
      "Epoch 19/50\n",
      "54000/54000 [==============================] - 4s 65us/step - loss: 0.2485 - acc: 0.9044 - val_loss: 0.3030 - val_acc: 0.8905\n",
      "Epoch 20/50\n",
      "54000/54000 [==============================] - 4s 65us/step - loss: 0.2442 - acc: 0.9085 - val_loss: 0.2777 - val_acc: 0.9002\n",
      "Epoch 21/50\n",
      "54000/54000 [==============================] - 4s 65us/step - loss: 0.2380 - acc: 0.9092 - val_loss: 0.2697 - val_acc: 0.9045\n",
      "Epoch 22/50\n",
      "54000/54000 [==============================] - 4s 65us/step - loss: 0.2365 - acc: 0.9101 - val_loss: 0.2740 - val_acc: 0.9015\n",
      "Epoch 23/50\n",
      "54000/54000 [==============================] - 4s 65us/step - loss: 0.2348 - acc: 0.9107 - val_loss: 0.2752 - val_acc: 0.9032\n",
      "Epoch 24/50\n",
      "54000/54000 [==============================] - 4s 66us/step - loss: 0.2288 - acc: 0.9125 - val_loss: 0.2837 - val_acc: 0.9030\n",
      "Epoch 25/50\n",
      "54000/54000 [==============================] - 4s 66us/step - loss: 0.2281 - acc: 0.9127 - val_loss: 0.2856 - val_acc: 0.8992\n",
      "Epoch 26/50\n",
      "54000/54000 [==============================] - 4s 65us/step - loss: 0.2237 - acc: 0.9146 - val_loss: 0.2856 - val_acc: 0.8973\n",
      "Epoch 27/50\n",
      "54000/54000 [==============================] - 4s 65us/step - loss: 0.2215 - acc: 0.9155 - val_loss: 0.2925 - val_acc: 0.8968\n",
      "Epoch 28/50\n",
      "54000/54000 [==============================] - 4s 65us/step - loss: 0.2138 - acc: 0.9188 - val_loss: 0.3052 - val_acc: 0.8938\n",
      "Epoch 29/50\n",
      "54000/54000 [==============================] - 4s 65us/step - loss: 0.2153 - acc: 0.9177 - val_loss: 0.2939 - val_acc: 0.9023\n",
      "Epoch 30/50\n",
      "54000/54000 [==============================] - 4s 65us/step - loss: 0.2141 - acc: 0.9186 - val_loss: 0.2904 - val_acc: 0.9012\n",
      "Epoch 31/50\n",
      "54000/54000 [==============================] - 4s 65us/step - loss: 0.2077 - acc: 0.9211 - val_loss: 0.2974 - val_acc: 0.9012\n",
      "Epoch 32/50\n",
      "54000/54000 [==============================] - 4s 65us/step - loss: 0.2056 - acc: 0.9224 - val_loss: 0.2829 - val_acc: 0.9063\n",
      "Epoch 33/50\n",
      "54000/54000 [==============================] - 3s 64us/step - loss: 0.2044 - acc: 0.9216 - val_loss: 0.2888 - val_acc: 0.9017\n",
      "Epoch 34/50\n",
      "54000/54000 [==============================] - 4s 65us/step - loss: 0.2034 - acc: 0.9222 - val_loss: 0.2983 - val_acc: 0.9052\n",
      "Epoch 35/50\n",
      "54000/54000 [==============================] - 4s 65us/step - loss: 0.1993 - acc: 0.9240 - val_loss: 0.2985 - val_acc: 0.9017\n",
      "Epoch 36/50\n",
      "54000/54000 [==============================] - 4s 65us/step - loss: 0.1944 - acc: 0.9259 - val_loss: 0.3024 - val_acc: 0.9065\n",
      "Epoch 37/50\n",
      "54000/54000 [==============================] - 4s 65us/step - loss: 0.1962 - acc: 0.9251 - val_loss: 0.2850 - val_acc: 0.9087\n",
      "Epoch 38/50\n",
      "54000/54000 [==============================] - 3s 65us/step - loss: 0.1899 - acc: 0.9265 - val_loss: 0.3035 - val_acc: 0.9022\n",
      "Epoch 39/50\n",
      "54000/54000 [==============================] - 4s 65us/step - loss: 0.1887 - acc: 0.9289 - val_loss: 0.2939 - val_acc: 0.9040\n",
      "Epoch 40/50\n",
      "54000/54000 [==============================] - 3s 64us/step - loss: 0.1882 - acc: 0.9284 - val_loss: 0.3036 - val_acc: 0.9023\n",
      "Epoch 41/50\n",
      "54000/54000 [==============================] - 3s 65us/step - loss: 0.1850 - acc: 0.9291 - val_loss: 0.3024 - val_acc: 0.9065\n",
      "Epoch 42/50\n",
      "54000/54000 [==============================] - 4s 65us/step - loss: 0.1832 - acc: 0.9297 - val_loss: 0.2870 - val_acc: 0.9063\n",
      "Epoch 43/50\n",
      "54000/54000 [==============================] - 4s 65us/step - loss: 0.1805 - acc: 0.9310 - val_loss: 0.2960 - val_acc: 0.9080\n",
      "Epoch 44/50\n",
      "54000/54000 [==============================] - 4s 65us/step - loss: 0.1857 - acc: 0.9300 - val_loss: 0.3067 - val_acc: 0.9053\n",
      "Epoch 45/50\n",
      "54000/54000 [==============================] - 4s 65us/step - loss: 0.1820 - acc: 0.9299 - val_loss: 0.2959 - val_acc: 0.9087\n",
      "Epoch 46/50\n",
      "54000/54000 [==============================] - 3s 65us/step - loss: 0.1775 - acc: 0.9320 - val_loss: 0.2903 - val_acc: 0.9083\n",
      "Epoch 47/50\n",
      "54000/54000 [==============================] - 3s 65us/step - loss: 0.1752 - acc: 0.9322 - val_loss: 0.2970 - val_acc: 0.9083\n",
      "Epoch 48/50\n",
      "54000/54000 [==============================] - 4s 65us/step - loss: 0.1718 - acc: 0.9336 - val_loss: 0.3092 - val_acc: 0.9077\n",
      "Epoch 49/50\n",
      "54000/54000 [==============================] - 4s 66us/step - loss: 0.1717 - acc: 0.9350 - val_loss: 0.2979 - val_acc: 0.9073\n",
      "Epoch 50/50\n",
      "54000/54000 [==============================] - 4s 66us/step - loss: 0.1706 - acc: 0.9347 - val_loss: 0.3207 - val_acc: 0.9015\n"
     ]
    }
   ],
   "source": [
    "#train_model \n",
    "H = model.fit(X_train, y_train, batch_size=64, epochs=50, validation_data=(X_val, y_val))"
   ]
  },
  {
   "cell_type": "markdown",
   "metadata": {
    "colab_type": "text",
    "id": "OlZ-kru5WhqO"
   },
   "source": [
    "#### Plot performance"
   ]
  },
  {
   "cell_type": "code",
   "execution_count": 63,
   "metadata": {
    "colab": {
     "base_uri": "https://localhost:8080/",
     "height": 404
    },
    "colab_type": "code",
    "id": "sn_3RHKrIfhc",
    "outputId": "eab00e96-5ef7-4a6a-afdd-99b042059485"
   },
   "outputs": [
    {
     "data": {
      "image/png": "[encoded data removed]",
      "text/plain": [
       "<Figure size 576x432 with 1 Axes>"
      ]
     },
     "metadata": {
      "needs_background": "light"
     },
     "output_type": "display_data"
    }
   ],
   "source": [
    "# Get model performance\n",
    "training_accuracy = H.history['acc']\n",
    "validation_accuracy = H.history['val_acc']\n",
    "training_error = H.history['loss']\n",
    "validation_error = H.history['val_loss']\n",
    "\n",
    "# Plot performance\n",
    "plt.figure(0)\n",
    "plt.plot(training_accuracy,'r')\n",
    "plt.plot(validation_accuracy,'g')\n",
    "plt.xticks(np.arange(0, len(training_accuracy), 2.0))\n",
    "plt.rcParams['figure.figsize'] = (8, 6)\n",
    "plt.xlabel(\"Num of Epochs\")\n",
    "plt.ylabel(\"Accuracy\")\n",
    "plt.title(\"Training Accuracy vs Validation Accuracy\")\n",
    "plt.legend(['train','validation'])\n",
    "plt.savefig('model4.png', transparent=True)"
   ]
  },
  {
   "cell_type": "markdown",
   "metadata": {
    "colab_type": "text",
    "id": "Z_IhVD_DFK-b"
   },
   "source": [
    "### Model 5: Model with Dropout 50% - 784 hidden nodes"
   ]
  },
  {
   "cell_type": "markdown",
   "metadata": {
    "colab_type": "text",
    "id": "ABWec8fcFV9C"
   },
   "source": [
    "#### Build model "
   ]
  },
  {
   "cell_type": "code",
   "execution_count": 53,
   "metadata": {
    "colab": {
     "base_uri": "https://localhost:8080/",
     "height": 306
    },
    "colab_type": "code",
    "id": "oKnikIynFKs8",
    "outputId": "66405e89-23fb-4872-8c36-2984ee0b8d04"
   },
   "outputs": [
    {
     "name": "stdout",
     "output_type": "stream",
     "text": [
      "_________________________________________________________________\n",
      "Layer (type)                 Output Shape              Param #   \n",
      "=================================================================\n",
      "flatten_15 (Flatten)         (None, 784)               0         \n",
      "_________________________________________________________________\n",
      "dense_29 (Dense)             (None, 784)               615440    \n",
      "_________________________________________________________________\n",
      "activation_15 (Activation)   (None, 784)               0         \n",
      "_________________________________________________________________\n",
      "dropout_15 (Dropout)         (None, 784)               0         \n",
      "_________________________________________________________________\n",
      "dense_30 (Dense)             (None, 10)                7850      \n",
      "=================================================================\n",
      "Total params: 623,290\n",
      "Trainable params: 623,290\n",
      "Non-trainable params: 0\n",
      "_________________________________________________________________\n"
     ]
    }
   ],
   "source": [
    "model = build_model(784, 0.5)"
   ]
  },
  {
   "cell_type": "markdown",
   "metadata": {
    "colab_type": "text",
    "id": "BHSrU-t6HQMu"
   },
   "source": [
    "#### Train model "
   ]
  },
  {
   "cell_type": "code",
   "execution_count": 54,
   "metadata": {
    "colab": {
     "base_uri": "https://localhost:8080/",
     "height": 1734
    },
    "colab_type": "code",
    "id": "0R7pilo4FKq0",
    "outputId": "8781abd4-fb4b-446f-dfdb-a020e21bf3a2"
   },
   "outputs": [
    {
     "name": "stdout",
     "output_type": "stream",
     "text": [
      "Train on 54000 samples, validate on 6000 samples\n",
      "Epoch 1/50\n",
      "54000/54000 [==============================] - 4s 76us/step - loss: 0.5601 - acc: 0.7994 - val_loss: 0.3858 - val_acc: 0.8623\n",
      "Epoch 2/50\n",
      "54000/54000 [==============================] - 3s 64us/step - loss: 0.4330 - acc: 0.8424 - val_loss: 0.3650 - val_acc: 0.8690\n",
      "Epoch 3/50\n",
      "54000/54000 [==============================] - 4s 65us/step - loss: 0.3973 - acc: 0.8547 - val_loss: 0.3540 - val_acc: 0.8695\n",
      "Epoch 4/50\n",
      "54000/54000 [==============================] - 3s 64us/step - loss: 0.3770 - acc: 0.8598 - val_loss: 0.3517 - val_acc: 0.8658\n",
      "Epoch 5/50\n",
      "54000/54000 [==============================] - 3s 65us/step - loss: 0.3646 - acc: 0.8659 - val_loss: 0.3208 - val_acc: 0.8815\n",
      "Epoch 6/50\n",
      "54000/54000 [==============================] - 3s 65us/step - loss: 0.3469 - acc: 0.8724 - val_loss: 0.3188 - val_acc: 0.8812\n",
      "Epoch 7/50\n",
      "54000/54000 [==============================] - 3s 65us/step - loss: 0.3411 - acc: 0.8731 - val_loss: 0.2999 - val_acc: 0.8898\n",
      "Epoch 8/50\n",
      "54000/54000 [==============================] - 3s 64us/step - loss: 0.3327 - acc: 0.8768 - val_loss: 0.3100 - val_acc: 0.8877\n",
      "Epoch 9/50\n",
      "54000/54000 [==============================] - 3s 64us/step - loss: 0.3236 - acc: 0.8799 - val_loss: 0.2935 - val_acc: 0.8917\n",
      "Epoch 10/50\n",
      "54000/54000 [==============================] - 3s 64us/step - loss: 0.3191 - acc: 0.8806 - val_loss: 0.2922 - val_acc: 0.8920\n",
      "Epoch 11/50\n",
      "54000/54000 [==============================] - 3s 64us/step - loss: 0.3113 - acc: 0.8850 - val_loss: 0.2922 - val_acc: 0.8913\n",
      "Epoch 12/50\n",
      "54000/54000 [==============================] - 3s 65us/step - loss: 0.3050 - acc: 0.8864 - val_loss: 0.2889 - val_acc: 0.8977\n",
      "Epoch 13/50\n",
      "54000/54000 [==============================] - 4s 65us/step - loss: 0.2985 - acc: 0.8879 - val_loss: 0.2875 - val_acc: 0.8935\n",
      "Epoch 14/50\n",
      "54000/54000 [==============================] - 3s 64us/step - loss: 0.2984 - acc: 0.8883 - val_loss: 0.2928 - val_acc: 0.8953\n",
      "Epoch 15/50\n",
      "54000/54000 [==============================] - 4s 65us/step - loss: 0.2892 - acc: 0.8913 - val_loss: 0.2878 - val_acc: 0.8952\n",
      "Epoch 16/50\n",
      "54000/54000 [==============================] - 3s 64us/step - loss: 0.2886 - acc: 0.8907 - val_loss: 0.2870 - val_acc: 0.8957\n",
      "Epoch 17/50\n",
      "54000/54000 [==============================] - 4s 66us/step - loss: 0.2814 - acc: 0.8948 - val_loss: 0.2844 - val_acc: 0.8967\n",
      "Epoch 18/50\n",
      "54000/54000 [==============================] - 3s 64us/step - loss: 0.2776 - acc: 0.8966 - val_loss: 0.2807 - val_acc: 0.9020\n",
      "Epoch 19/50\n",
      "54000/54000 [==============================] - 3s 65us/step - loss: 0.2750 - acc: 0.8968 - val_loss: 0.2856 - val_acc: 0.8970\n",
      "Epoch 20/50\n",
      "54000/54000 [==============================] - 4s 67us/step - loss: 0.2714 - acc: 0.8976 - val_loss: 0.2821 - val_acc: 0.8995\n",
      "Epoch 21/50\n",
      "54000/54000 [==============================] - 4s 68us/step - loss: 0.2679 - acc: 0.8981 - val_loss: 0.2804 - val_acc: 0.9005\n",
      "Epoch 22/50\n",
      "54000/54000 [==============================] - 4s 65us/step - loss: 0.2628 - acc: 0.8999 - val_loss: 0.2900 - val_acc: 0.8957\n",
      "Epoch 23/50\n",
      "54000/54000 [==============================] - 4s 67us/step - loss: 0.2613 - acc: 0.9020 - val_loss: 0.2832 - val_acc: 0.9015\n",
      "Epoch 24/50\n",
      "54000/54000 [==============================] - 4s 67us/step - loss: 0.2587 - acc: 0.9021 - val_loss: 0.2771 - val_acc: 0.9012\n",
      "Epoch 25/50\n",
      "54000/54000 [==============================] - 4s 67us/step - loss: 0.2520 - acc: 0.9050 - val_loss: 0.2796 - val_acc: 0.9015\n",
      "Epoch 26/50\n",
      "54000/54000 [==============================] - 4s 68us/step - loss: 0.2542 - acc: 0.9051 - val_loss: 0.2760 - val_acc: 0.9060\n",
      "Epoch 27/50\n",
      "54000/54000 [==============================] - 4s 67us/step - loss: 0.2485 - acc: 0.9063 - val_loss: 0.2677 - val_acc: 0.9033\n",
      "Epoch 28/50\n",
      "54000/54000 [==============================] - 4s 67us/step - loss: 0.2466 - acc: 0.9064 - val_loss: 0.2880 - val_acc: 0.8998\n",
      "Epoch 29/50\n",
      "54000/54000 [==============================] - 4s 65us/step - loss: 0.2440 - acc: 0.9077 - val_loss: 0.2755 - val_acc: 0.9075\n",
      "Epoch 30/50\n",
      "54000/54000 [==============================] - 4s 65us/step - loss: 0.2430 - acc: 0.9071 - val_loss: 0.2779 - val_acc: 0.9073\n",
      "Epoch 31/50\n",
      "54000/54000 [==============================] - 4s 66us/step - loss: 0.2391 - acc: 0.9087 - val_loss: 0.2765 - val_acc: 0.9030\n",
      "Epoch 32/50\n",
      "54000/54000 [==============================] - 4s 66us/step - loss: 0.2386 - acc: 0.9092 - val_loss: 0.2798 - val_acc: 0.9047\n",
      "Epoch 33/50\n",
      "54000/54000 [==============================] - 4s 67us/step - loss: 0.2326 - acc: 0.9118 - val_loss: 0.2809 - val_acc: 0.9037\n",
      "Epoch 34/50\n",
      "54000/54000 [==============================] - 4s 67us/step - loss: 0.2321 - acc: 0.9116 - val_loss: 0.2729 - val_acc: 0.9065\n",
      "Epoch 35/50\n",
      "54000/54000 [==============================] - 4s 66us/step - loss: 0.2290 - acc: 0.9127 - val_loss: 0.2823 - val_acc: 0.9063\n",
      "Epoch 36/50\n",
      "54000/54000 [==============================] - 4s 65us/step - loss: 0.2275 - acc: 0.9130 - val_loss: 0.2796 - val_acc: 0.9062\n",
      "Epoch 37/50\n",
      "54000/54000 [==============================] - 4s 66us/step - loss: 0.2256 - acc: 0.9149 - val_loss: 0.2754 - val_acc: 0.9043\n",
      "Epoch 38/50\n",
      "54000/54000 [==============================] - 4s 66us/step - loss: 0.2214 - acc: 0.9161 - val_loss: 0.2942 - val_acc: 0.9008\n",
      "Epoch 39/50\n",
      "54000/54000 [==============================] - 4s 65us/step - loss: 0.2198 - acc: 0.9147 - val_loss: 0.2896 - val_acc: 0.9035\n",
      "Epoch 40/50\n",
      "54000/54000 [==============================] - 4s 65us/step - loss: 0.2166 - acc: 0.9170 - val_loss: 0.2851 - val_acc: 0.9057\n",
      "Epoch 41/50\n",
      "54000/54000 [==============================] - 4s 65us/step - loss: 0.2184 - acc: 0.9171 - val_loss: 0.2797 - val_acc: 0.9090\n",
      "Epoch 42/50\n",
      "54000/54000 [==============================] - 3s 65us/step - loss: 0.2183 - acc: 0.9172 - val_loss: 0.2897 - val_acc: 0.9042\n",
      "Epoch 43/50\n",
      "54000/54000 [==============================] - 4s 65us/step - loss: 0.2149 - acc: 0.9189 - val_loss: 0.2889 - val_acc: 0.9057\n",
      "Epoch 44/50\n",
      "54000/54000 [==============================] - 3s 65us/step - loss: 0.2134 - acc: 0.9179 - val_loss: 0.2923 - val_acc: 0.9067\n",
      "Epoch 45/50\n",
      "54000/54000 [==============================] - 4s 65us/step - loss: 0.2117 - acc: 0.9188 - val_loss: 0.2882 - val_acc: 0.9067\n",
      "Epoch 46/50\n",
      "54000/54000 [==============================] - 4s 66us/step - loss: 0.2106 - acc: 0.9189 - val_loss: 0.2980 - val_acc: 0.9053\n",
      "Epoch 47/50\n",
      "54000/54000 [==============================] - 4s 66us/step - loss: 0.2082 - acc: 0.9207 - val_loss: 0.2977 - val_acc: 0.9090\n",
      "Epoch 48/50\n",
      "54000/54000 [==============================] - 4s 66us/step - loss: 0.2069 - acc: 0.9209 - val_loss: 0.2871 - val_acc: 0.9077\n",
      "Epoch 49/50\n",
      "54000/54000 [==============================] - 4s 68us/step - loss: 0.2051 - acc: 0.9208 - val_loss: 0.2960 - val_acc: 0.9067\n",
      "Epoch 50/50\n",
      "54000/54000 [==============================] - 4s 72us/step - loss: 0.2032 - acc: 0.9234 - val_loss: 0.2954 - val_acc: 0.9092\n"
     ]
    }
   ],
   "source": [
    "H = model.fit(X_train, y_train, batch_size=64, epochs=50, validation_data=(X_val, y_val))"
   ]
  },
  {
   "cell_type": "markdown",
   "metadata": {
    "colab_type": "text",
    "id": "NG8pPiteH-Q9"
   },
   "source": [
    "#### Plot performance"
   ]
  },
  {
   "cell_type": "code",
   "execution_count": 56,
   "metadata": {
    "colab": {
     "base_uri": "https://localhost:8080/",
     "height": 421
    },
    "colab_type": "code",
    "id": "-w6gXqPcFKox",
    "outputId": "af4fefe5-1084-443b-c34f-e9317855dbca"
   },
   "outputs": [
    {
     "data": {
      "image/png": "[encoded data removed]",
      "text/plain": [
       "<Figure size 576x432 with 1 Axes>"
      ]
     },
     "metadata": {
      "needs_background": "light"
     },
     "output_type": "display_data"
    }
   ],
   "source": [
    "# Get model performance\n",
    "training_accuracy = H.history['acc']\n",
    "validation_accuracy = H.history['val_acc']\n",
    "training_error = H.history['loss']\n",
    "validation_error = H.history['val_loss']\n",
    "\n",
    "# Plot performance\n",
    "plt.figure(0)\n",
    "plt.plot(training_accuracy,'r')\n",
    "plt.plot(validation_accuracy,'g')\n",
    "plt.xticks(np.arange(0, len(training_accuracy), 2.0))\n",
    "plt.rcParams['figure.figsize'] = (8, 6)\n",
    "plt.xlabel(\"Num of Epochs\")\n",
    "plt.ylabel(\"Accuracy\")\n",
    "plt.title(\"Training Accuracy vs Validation Accuracy\")\n",
    "plt.legend(['train','validation'])\n",
    "plt.savefig('model5.png', transparent=True)"
   ]
  },
  {
   "cell_type": "markdown",
   "metadata": {
    "colab_type": "text",
    "id": "_ueiHrg0nG-v"
   },
   "source": [
    "## Build and Train model with Cross Validation"
   ]
  },
  {
   "cell_type": "markdown",
   "metadata": {
    "colab_type": "text",
    "id": "MQujlQ2AEeqM"
   },
   "source": [
    "### Build and train model"
   ]
  },
  {
   "cell_type": "code",
   "execution_count": 16,
   "metadata": {
    "colab": {
     "base_uri": "https://localhost:8080/",
     "height": 187
    },
    "colab_type": "code",
    "id": "D_LduMFdW29b",
    "outputId": "67fd4a4d-e28b-4597-b484-fbfb8415dfc9"
   },
   "outputs": [
    {
     "name": "stdout",
     "output_type": "stream",
     "text": [
      "Fold number: 1 / 5\n",
      "[INFO] Validation score [1]: loss - 0.319  --- accuracy - 89.5%\n",
      "Fold number: 2 / 5\n",
      "[INFO] Validation score [2]: loss - 0.334  --- accuracy - 89.5%\n",
      "Fold number: 3 / 5\n",
      "[INFO] Validation score [3]: loss - 0.296  --- accuracy - 90.10000000000001%\n",
      "Fold number: 4 / 5\n",
      "[INFO] Validation score [4]: loss - 0.303  --- accuracy - 89.9%\n",
      "Fold number: 5 / 5\n",
      "[INFO] Validation score [5]: loss - 0.308  --- accuracy - 90.0%\n"
     ]
    }
   ],
   "source": [
    "# Set up Cross Validation\n",
    "kf_data = KFold(5, shuffle=True)\n",
    "val_scores = []\n",
    "cv_models = []\n",
    "cv_histories = []\n",
    "\n",
    "for i, (train_index, val_index) in enumerate(kf_data.split(X, y)):\n",
    "    print(f'Fold number: {i+1} / {5}')\n",
    "    \n",
    "    # Build model\n",
    "\n",
    "    model = build_model(784, 0.5, False)\n",
    "\n",
    "    H = model.fit(X[train_index], y[train_index], batch_size=64, epochs=40, validation_data=(X[val_index], y[val_index]), verbose=0)\n",
    "\n",
    "    # save models and histories\n",
    "    cv_models.append(model)\n",
    "    cv_histories.append(H)\n",
    "\n",
    "    # evaluate model on validation set\n",
    "    score = model.evaluate(X[val_index], y[val_index], verbose=0)\n",
    "    print(f'[INFO] Validation score [{i+1}]: loss - {round(score[0], 3)}  --- accuracy - {round(score[1], 3)*100}%')\n",
    "\n",
    "    # append score\n",
    "    val_scores.append(score)"
   ]
  },
  {
   "cell_type": "markdown",
   "metadata": {
    "colab_type": "text",
    "id": "7z_Eraemn4ZJ"
   },
   "source": [
    "### Get best model from cross validation"
   ]
  },
  {
   "cell_type": "code",
   "execution_count": 17,
   "metadata": {
    "colab": {},
    "colab_type": "code",
    "id": "jf-fIBKYOE-F"
   },
   "outputs": [],
   "source": [
    "# best model index\n",
    "best_cv_ind = np.argmax([score[1] for score in val_scores])\n",
    "\n",
    "# get best model\n",
    "best_cv_model = cv_models[best_cv_ind]\n",
    "\n",
    "# get history of best model\n",
    "best_cv_history = cv_histories[best_cv_ind]"
   ]
  },
  {
   "cell_type": "code",
   "execution_count": 68,
   "metadata": {
    "colab": {
     "base_uri": "https://localhost:8080/",
     "height": 421
    },
    "colab_type": "code",
    "id": "9xfNuQ72OE6w",
    "outputId": "0fc81101-2def-4f75-d8c3-ad98316c0e29"
   },
   "outputs": [
    {
     "data": {
      "image/png": "[encoded data removed]",
      "text/plain": [
       "<Figure size 576x432 with 1 Axes>"
      ]
     },
     "metadata": {
      "needs_background": "light"
     },
     "output_type": "display_data"
    }
   ],
   "source": [
    "# Get model performance\n",
    "training_accuracy = best_cv_history.history['acc']\n",
    "validation_accuracy = best_cv_history.history['val_acc']\n",
    "training_error = best_cv_history.history['loss']\n",
    "validation_error = best_cv_history.history['val_loss']\n",
    "\n",
    "# Plot performance\n",
    "plt.figure(0)\n",
    "plt.plot(training_accuracy,'r')\n",
    "plt.plot(validation_accuracy,'g')\n",
    "plt.xticks(np.arange(0, len(training_accuracy), 2.0))\n",
    "plt.rcParams['figure.figsize'] = (8, 6)\n",
    "plt.xlabel(\"Num of Epochs\")\n",
    "plt.ylabel(\"Accuracy\")\n",
    "plt.title(\"Training Accuracy vs Validation Accuracy\")\n",
    "plt.legend(['train','validation'])\n",
    "plt.savefig('cv_val.png', transparent=True)"
   ]
  },
  {
   "cell_type": "markdown",
   "metadata": {
    "colab_type": "text",
    "id": "s8mlzBQREjVb"
   },
   "source": [
    "### Test model on test set"
   ]
  },
  {
   "cell_type": "code",
   "execution_count": 67,
   "metadata": {
    "colab": {
     "base_uri": "https://localhost:8080/",
     "height": 357
    },
    "colab_type": "code",
    "id": "kDBXJrJEoFzb",
    "outputId": "66e2c36f-57f2-468a-c3d9-b025b7dd30a8"
   },
   "outputs": [
    {
     "name": "stdout",
     "output_type": "stream",
     "text": [
      "Accuracy on test set: 0.8928\n",
      "\n",
      "Mean of validation accuracy from cross-validation: 0.89792%\n",
      "Standard deviation of validation accuracy from cross-validation: 0.00253\n",
      "Classification report\n",
      "              precision    recall  f1-score   support\n",
      "\n",
      "           0       0.84      0.86      0.85      1000\n",
      "           1       0.99      0.98      0.99      1000\n",
      "           2       0.78      0.82      0.80      1000\n",
      "           3       0.91      0.90      0.90      1000\n",
      "           4       0.80      0.84      0.82      1000\n",
      "           5       0.98      0.96      0.97      1000\n",
      "           6       0.75      0.67      0.71      1000\n",
      "           7       0.96      0.95      0.95      1000\n",
      "           8       0.98      0.97      0.98      1000\n",
      "           9       0.94      0.97      0.96      1000\n",
      "\n",
      "   micro avg       0.89      0.89      0.89     10000\n",
      "   macro avg       0.89      0.89      0.89     10000\n",
      "weighted avg       0.89      0.89      0.89     10000\n",
      "\n"
     ]
    }
   ],
   "source": [
    "print(f'Accuracy on test set: {best_cv_model.evaluate(X_test, y_test, verbose=0)[1]}\\n')\n",
    "print(f'Mean of validation accuracy from cross-validation: {round(np.array(np.array(val_scores)[:, 1]).mean(), 5)}%')\n",
    "print(f'Standard deviation of validation accuracy from cross-validation: {round(np.array(np.array(val_scores)[:, 1]).std(), 5)}')\n",
    "\n",
    "# performance of best model on test set\n",
    "print('Classification report')\n",
    "predictions = best_cv_model.predict(X_test)\n",
    "print(classification_report(np.argmax(y_test, axis=1), np.argmax(predictions, axis=1)))"
   ]
  },
  {
   "cell_type": "markdown",
   "metadata": {},
   "source": [
    "### Sample images of coat, pullover, shirt respectively"
   ]
  },
  {
   "cell_type": "code",
   "execution_count": 39,
   "metadata": {
    "colab": {
     "base_uri": "https://localhost:8080/",
     "height": 378
    },
    "colab_type": "code",
    "id": "nIFFDjOGOE4Z",
    "outputId": "85f3c6ff-5c8b-4a1a-95ad-f188658f8daa"
   },
   "outputs": [
    {
     "data": {
      "image/png": "[encoded data removed]",
      "text/plain": [
       "<Figure size 576x432 with 4 Axes>"
      ]
     },
     "metadata": {
      "needs_background": "light"
     },
     "output_type": "display_data"
    },
    {
     "data": {
      "text/plain": [
       "<Figure size 576x432 with 0 Axes>"
      ]
     },
     "metadata": {},
     "output_type": "display_data"
    }
   ],
   "source": [
    "# Sample input\n",
    "plt.subplot(221)\n",
    "plt.imshow(X_test[np.argmax(y_test, axis=1) == 4][0], cmap='gray')\n",
    "plt.subplot(222)\n",
    "plt.imshow(X_test[np.argmax(y_test, axis=1) == 4][1], cmap='gray')\n",
    "plt.subplot(223)\n",
    "plt.imshow(X_test[np.argmax(y_test, axis=1) == 4][2], cmap='gray')\n",
    "plt.subplot(224)\n",
    "plt.imshow(X_test[np.argmax(y_test, axis=1) == 4][3], cmap='gray')\n",
    "plt.show()\n",
    "plt.savefig(\"coat.png\", transparent=False)"
   ]
  },
  {
   "cell_type": "code",
   "execution_count": 33,
   "metadata": {
    "colab": {
     "base_uri": "https://localhost:8080/",
     "height": 378
    },
    "colab_type": "code",
    "id": "VEVbgPWGpKyh",
    "outputId": "83e1240a-a52b-4f35-f742-d59374f13d98"
   },
   "outputs": [
    {
     "data": {
      "image/png": "[encoded data removed]",
      "text/plain": [
       "<Figure size 576x432 with 4 Axes>"
      ]
     },
     "metadata": {
      "needs_background": "light"
     },
     "output_type": "display_data"
    },
    {
     "data": {
      "text/plain": [
       "<Figure size 576x432 with 0 Axes>"
      ]
     },
     "metadata": {},
     "output_type": "display_data"
    }
   ],
   "source": [
    "# Sample input\n",
    "plt.subplot(221)\n",
    "plt.imshow(X_test[np.argmax(y_test, axis=1) == 6][0], cmap='gray')\n",
    "plt.subplot(222)\n",
    "plt.imshow(X_test[np.argmax(y_test, axis=1) == 6][1], cmap='gray')\n",
    "plt.subplot(223)\n",
    "plt.imshow(X_test[np.argmax(y_test, axis=1) == 6][2], cmap='gray')\n",
    "plt.subplot(224)\n",
    "plt.imshow(X_test[np.argmax(y_test, axis=1) == 6][3], cmap='gray')\n",
    "plt.show()\n",
    "plt.savefig(\"shirt\", transparent=True)"
   ]
  },
  {
   "cell_type": "code",
   "execution_count": 34,
   "metadata": {
    "colab": {
     "base_uri": "https://localhost:8080/",
     "height": 378
    },
    "colab_type": "code",
    "id": "vOxnGNWH9QqQ",
    "outputId": "47db0205-5d05-4053-a631-dc328c28ce8d"
   },
   "outputs": [
    {
     "data": {
      "image/png": "[encoded data removed]",
      "text/plain": [
       "<Figure size 576x432 with 4 Axes>"
      ]
     },
     "metadata": {
      "needs_background": "light"
     },
     "output_type": "display_data"
    },
    {
     "data": {
      "text/plain": [
       "<Figure size 576x432 with 0 Axes>"
      ]
     },
     "metadata": {},
     "output_type": "display_data"
    }
   ],
   "source": [
    "# Sample input\n",
    "plt.subplot(221)\n",
    "plt.imshow(X_test[np.argmax(y_test, axis=1) == 2][0], cmap='gray')\n",
    "plt.subplot(222)\n",
    "plt.imshow(X_test[np.argmax(y_test, axis=1) == 2][1], cmap='gray')\n",
    "plt.subplot(223)\n",
    "plt.imshow(X_test[np.argmax(y_test, axis=1) == 2][2], cmap='gray')\n",
    "plt.subplot(224)\n",
    "plt.imshow(X_test[np.argmax(y_test, axis=1) == 2][3], cmap='gray')\n",
    "plt.show()\n",
    "plt.savefig(\"pullover.png\", transparent=True)"
   ]
  },
  {
   "cell_type": "code",
   "execution_count": null,
   "metadata": {},
   "outputs": [],
   "source": []
  }
 ],
 "metadata": {
  "accelerator": "GPU",
  "colab": {
   "collapsed_sections": [],
   "name": "mlp_s3634953_studentID2.ipynb",
   "provenance": [],
   "version": "0.3.2"
  },
  "kernelspec": {
   "display_name": "Python 3",
   "language": "python",
   "name": "python3"
  },
  "language_info": {
   "codemirror_mode": {
    "name": "ipython",
    "version": 3
   },
   "file_extension": ".py",
   "mimetype": "text/x-python",
   "name": "python",
   "nbconvert_exporter": "python",
   "pygments_lexer": "ipython3",
   "version": "3.7.3"
  }
 },
 "nbformat": 4,
 "nbformat_minor": 2
}
