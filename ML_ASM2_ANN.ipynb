{
 "cells": [
  {
   "cell_type": "markdown",
   "metadata": {
    "colab_type": "text",
    "id": "LDk1GBIRO2Q6"
   },
   "source": [
    "# Load libraries"
   ]
  },
  {
   "cell_type": "code",
   "execution_count": 32,
   "metadata": {
    "colab": {},
    "colab_type": "code",
    "id": "BJBR68NXE99M"
   },
   "outputs": [],
   "source": [
    "# Import libraries\n",
    "\n",
    "import numpy as np\n",
    "import matplotlib.pyplot as plt\n",
    "import os\n",
    "\n",
    "import skimage\n",
    "from sklearn.model_selection import train_test_split\n",
    "from sklearn.metrics import classification_report\n",
    "\n",
    "from keras.utils import np_utils\n",
    "from keras.preprocessing.image import ImageDataGenerator\n",
    "\n",
    "from keras.models import Sequential\n",
    "from keras.layers.core import Dense, Dropout, Flatten, Activation\n",
    "from keras.layers import BatchNormalization\n",
    "from keras.optimizers import SGD"
   ]
  },
  {
   "cell_type": "code",
   "execution_count": 2,
   "metadata": {},
   "outputs": [
    {
     "name": "stdout",
     "output_type": "stream",
     "text": [
      "[name: \"/device:CPU:0\"\n",
      "device_type: \"CPU\"\n",
      "memory_limit: 268435456\n",
      "locality {\n",
      "}\n",
      "incarnation: 15533246439206590119\n",
      ", name: \"/device:GPU:0\"\n",
      "device_type: \"GPU\"\n",
      "memory_limit: 3153041817\n",
      "locality {\n",
      "  bus_id: 1\n",
      "  links {\n",
      "  }\n",
      "}\n",
      "incarnation: 6181866118649673911\n",
      "physical_device_desc: \"device: 0, name: GeForce GTX 1050 Ti with Max-Q Design, pci bus id: 0000:01:00.0, compute capability: 6.1\"\n",
      "]\n"
     ]
    }
   ],
   "source": [
    "# Use GPU\n",
    "from tensorflow.python.client import device_lib\n",
    "print(device_lib.list_local_devices())"
   ]
  },
  {
   "cell_type": "markdown",
   "metadata": {},
   "source": [
    "# Load data"
   ]
  },
  {
   "cell_type": "code",
   "execution_count": 3,
   "metadata": {},
   "outputs": [],
   "source": [
    "# Load mnist data\n",
    "def load_data(data_directory):\n",
    "    directories = [\n",
    "        d for d in os.listdir(data_directory) if os.path.isdir(os.path.join(data_directory, d))\n",
    "    ]\n",
    "    labels = []\n",
    "    images = []\n",
    "    for d in directories:\n",
    "        label_directory = os.path.join(data_directory, d)\n",
    "        print(f'reading {data_directory}\\{d}')\n",
    "        file_names = [os.path.join(label_directory, f) for f in os.listdir(label_directory)]\n",
    "        for f in file_names:\n",
    "            images.append(skimage.io.imread(f))\n",
    "            labels.append(int(d))\n",
    "    return images, labels"
   ]
  },
  {
   "cell_type": "code",
   "execution_count": 4,
   "metadata": {},
   "outputs": [
    {
     "name": "stdout",
     "output_type": "stream",
     "text": [
      "reading C:\\Users\\toanq\\Work\\rmit\\ml_asm2\\data\\training\\0\n",
      "reading C:\\Users\\toanq\\Work\\rmit\\ml_asm2\\data\\training\\1\n",
      "reading C:\\Users\\toanq\\Work\\rmit\\ml_asm2\\data\\training\\2\n",
      "reading C:\\Users\\toanq\\Work\\rmit\\ml_asm2\\data\\training\\3\n",
      "reading C:\\Users\\toanq\\Work\\rmit\\ml_asm2\\data\\training\\4\n",
      "reading C:\\Users\\toanq\\Work\\rmit\\ml_asm2\\data\\training\\5\n",
      "reading C:\\Users\\toanq\\Work\\rmit\\ml_asm2\\data\\training\\6\n",
      "reading C:\\Users\\toanq\\Work\\rmit\\ml_asm2\\data\\training\\7\n",
      "reading C:\\Users\\toanq\\Work\\rmit\\ml_asm2\\data\\training\\8\n",
      "reading C:\\Users\\toanq\\Work\\rmit\\ml_asm2\\data\\training\\9\n",
      "reading C:\\Users\\toanq\\Work\\rmit\\ml_asm2\\data\\testing\\0\n",
      "reading C:\\Users\\toanq\\Work\\rmit\\ml_asm2\\data\\testing\\1\n",
      "reading C:\\Users\\toanq\\Work\\rmit\\ml_asm2\\data\\testing\\2\n",
      "reading C:\\Users\\toanq\\Work\\rmit\\ml_asm2\\data\\testing\\3\n",
      "reading C:\\Users\\toanq\\Work\\rmit\\ml_asm2\\data\\testing\\4\n",
      "reading C:\\Users\\toanq\\Work\\rmit\\ml_asm2\\data\\testing\\5\n",
      "reading C:\\Users\\toanq\\Work\\rmit\\ml_asm2\\data\\testing\\6\n",
      "reading C:\\Users\\toanq\\Work\\rmit\\ml_asm2\\data\\testing\\7\n",
      "reading C:\\Users\\toanq\\Work\\rmit\\ml_asm2\\data\\testing\\8\n",
      "reading C:\\Users\\toanq\\Work\\rmit\\ml_asm2\\data\\testing\\9\n"
     ]
    }
   ],
   "source": [
    "# read data locally\n",
    "train_data_path = os.path.join(os.getcwd(),\"data\",\"training\")\n",
    "test_data_path = os.path.join(os.getcwd(),\"data\",\"testing\")\n",
    "images, labels = load_data(train_data_path)\n",
    "test_images,test_labels = load_data(test_data_path)\n",
    "x_train = np.asarray(images)\n",
    "x_test = np.asarray(test_images)\n",
    "y_train = np.asarray(labels)\n",
    "y_test = np.asarray(test_labels)"
   ]
  },
  {
   "cell_type": "markdown",
   "metadata": {},
   "source": [
    "# Preprocess data"
   ]
  },
  {
   "cell_type": "code",
   "execution_count": 5,
   "metadata": {
    "colab": {},
    "colab_type": "code",
    "id": "ZMCq33K5Ft1c"
   },
   "outputs": [],
   "source": [
    "# split training set to training and validating sets\n",
    "x_train, x_val, y_train, y_val = train_test_split(x_train, y_train, test_size=0.2,random_state=0)"
   ]
  },
  {
   "cell_type": "code",
   "execution_count": 6,
   "metadata": {
    "colab": {},
    "colab_type": "code",
    "id": "GLzDLZMcFXj8"
   },
   "outputs": [
    {
     "name": "stdout",
     "output_type": "stream",
     "text": [
      "Train images: (48000, 28, 28)\n",
      "Train labels: (48000,)\n",
      "Validation image: (12000, 28, 28)\n",
      "Validation labels: (12000,)\n",
      "Test images: (10000, 28, 28)\n",
      "Test labels: (10000,)\n"
     ]
    }
   ],
   "source": [
    "print(f'Train images: {x_train.shape}')\n",
    "print(f'Train labels: {y_train.shape}')\n",
    "print(f'Validation image: {x_val.shape}')\n",
    "print(f'Validation labels: {y_val.shape}')\n",
    "print(f'Test images: {x_test.shape}')\n",
    "print(f'Test labels: {y_test.shape}')"
   ]
  },
  {
   "cell_type": "code",
   "execution_count": 7,
   "metadata": {
    "colab": {},
    "colab_type": "code",
    "id": "DxVU2lNWN65o"
   },
   "outputs": [],
   "source": [
    "# Preprocessing data\n",
    "\n",
    "# Get number of pixels\n",
    "num_pixels = x_train.shape[1] * x_train.shape[2]\n",
    "\n",
    "# Set number of output classes\n",
    "number_of_classes = 10\n",
    "\n",
    "# convert labels to categorical one_hot encoder\n",
    "y_train = np_utils.to_categorical(y_train)\n",
    "y_test = np_utils.to_categorical(y_test)\n",
    "y_val = np_utils.to_categorical(y_val)\n",
    "\n",
    "# reshape images to 3D shape with 1 channel for color (this is to serve data augmentation later)\n",
    "# divide all pixels by 255. to constrain input to 0-1 range\n",
    "x_train = x_train.reshape(x_train.shape[0], 28, 28, 1).astype('float32') / 255.\n",
    "x_val = x_val.reshape(x_val.shape[0], 28, 28, 1).astype('float32') / 255.\n",
    "x_test = x_test.reshape(x_test.shape[0], 28, 28, 1).astype('float32') / 255.\n",
    "\n",
    "# Create data generator (apply image augmentation)\n",
    "train_gen = ImageDataGenerator(rotation_range=8, width_shift_range=0.08, shear_range=0.3,\n",
    "                             height_shift_range=0.08, zoom_range=0.08)\n",
    "\n",
    "# Create data generator for validation set\n",
    "val_gen = ImageDataGenerator()\n",
    "\n",
    "train_generator = train_gen.flow(x_train, y_train, batch_size=64)\n",
    "val_generator = val_gen.flow(x_val, y_val, batch_size=64)"
   ]
  },
  {
   "cell_type": "markdown",
   "metadata": {
    "colab": {},
    "colab_type": "code",
    "id": "GM_wQ_9JPpcX"
   },
   "source": [
    "**Plot sample input image**"
   ]
  },
  {
   "cell_type": "code",
   "execution_count": 8,
   "metadata": {
    "colab": {},
    "colab_type": "code",
    "id": "1uJvdbbIOamK"
   },
   "outputs": [
    {
     "data": {
      "image/png": "[encoded data removed]",
      "text/plain": [
       "<Figure size 432x288 with 4 Axes>"
      ]
     },
     "metadata": {
      "needs_background": "light"
     },
     "output_type": "display_data"
    }
   ],
   "source": [
    "# Sample input\n",
    "plt.subplot(221)\n",
    "plt.imshow(x_train[0].reshape(28, 28), cmap='gray')\n",
    "plt.subplot(222)\n",
    "plt.imshow(x_train[1].reshape(28, 28), cmap='gray')\n",
    "plt.subplot(223)\n",
    "plt.imshow(x_train[2].reshape(28, 28), cmap='gray')\n",
    "plt.subplot(224)\n",
    "plt.imshow(x_train[3].reshape(28, 28), cmap='gray')\n",
    "plt.show()"
   ]
  },
  {
   "cell_type": "markdown",
   "metadata": {},
   "source": [
    "# Build model and train"
   ]
  },
  {
   "cell_type": "markdown",
   "metadata": {},
   "source": [
    "## Vanilla model\n",
    "(No regularization layer such as Batch Normalization or Dropout)"
   ]
  },
  {
   "cell_type": "markdown",
   "metadata": {},
   "source": [
    "### Build model"
   ]
  },
  {
   "cell_type": "code",
   "execution_count": 9,
   "metadata": {},
   "outputs": [
    {
     "name": "stdout",
     "output_type": "stream",
     "text": [
      "WARNING:tensorflow:From c:\\users\\toanq\\anaconda3\\envs\\dl\\lib\\site-packages\\tensorflow\\python\\framework\\op_def_library.py:263: colocate_with (from tensorflow.python.framework.ops) is deprecated and will be removed in a future version.\n",
      "Instructions for updating:\n",
      "Colocations handled automatically by placer.\n",
      "_________________________________________________________________\n",
      "Layer (type)                 Output Shape              Param #   \n",
      "=================================================================\n",
      "flatten_1 (Flatten)          (None, 784)               0         \n",
      "_________________________________________________________________\n",
      "dense_1 (Dense)              (None, 1024)              803840    \n",
      "_________________________________________________________________\n",
      "activation_1 (Activation)    (None, 1024)              0         \n",
      "_________________________________________________________________\n",
      "dense_2 (Dense)              (None, 10)                10250     \n",
      "=================================================================\n",
      "Total params: 814,090\n",
      "Trainable params: 814,090\n",
      "Non-trainable params: 0\n",
      "_________________________________________________________________\n"
     ]
    }
   ],
   "source": [
    "# Build model\n",
    "model_vanilla = Sequential()\n",
    "\n",
    "# Flatten the input to 1D array (784,)\n",
    "model_vanilla.add(Flatten(input_shape=(28, 28, 1)))\n",
    "\n",
    "# Add 1st layer, randomly dropping 50% nodes during training\n",
    "model_vanilla.add(Dense(1024))\n",
    "model_vanilla.add(Activation('relu'))\n",
    "\n",
    "# add output layer\n",
    "model_vanilla.add(Dense(number_of_classes, activation='softmax'))\n",
    "\n",
    "# compile model\n",
    "model_vanilla.compile(loss='categorical_crossentropy', optimizer='adam', metrics=['accuracy'])\n",
    "\n",
    "# Print summary of model\n",
    "model_vanilla.summary()"
   ]
  },
  {
   "cell_type": "markdown",
   "metadata": {},
   "source": [
    "### Train model"
   ]
  },
  {
   "cell_type": "code",
   "execution_count": 13,
   "metadata": {},
   "outputs": [
    {
     "name": "stdout",
     "output_type": "stream",
     "text": [
      "Epoch 1/3\n",
      "937/937 [==============================] - 29s 31ms/step - loss: 0.4942 - acc: 0.8133 - val_loss: 0.4193 - val_acc: 0.8402\n",
      "Epoch 2/3\n",
      "937/937 [==============================] - 29s 30ms/step - loss: 0.4740 - acc: 0.8228 - val_loss: 0.3929 - val_acc: 0.8571\n",
      "Epoch 3/3\n",
      "937/937 [==============================] - 28s 30ms/step - loss: 0.4553 - acc: 0.8303 - val_loss: 0.3895 - val_acc: 0.8557\n"
     ]
    }
   ],
   "source": [
    "# train model\n",
    "H_vanilla = model_vanilla.fit_generator(train_generator, steps_per_epoch=60000//64, epochs=50, \n",
    "                                        validation_data=val_generator, validation_steps=10000//64)"
   ]
  },
  {
   "cell_type": "markdown",
   "metadata": {},
   "source": [
    "### Plot model performance"
   ]
  },
  {
   "cell_type": "code",
   "execution_count": 14,
   "metadata": {},
   "outputs": [
    {
     "data": {
      "image/png": "[encoded data removed]",
      "text/plain": [
       "<Figure size 432x288 with 1 Axes>"
      ]
     },
     "metadata": {
      "needs_background": "light"
     },
     "output_type": "display_data"
    },
    {
     "data": {
      "image/png": "[encoded data removed]",
      "text/plain": [
       "<Figure size 576x432 with 1 Axes>"
      ]
     },
     "metadata": {
      "needs_background": "light"
     },
     "output_type": "display_data"
    }
   ],
   "source": [
    "# Get model performance\n",
    "training_accuracy = H_vanilla.history['acc']\n",
    "validation_accuracy = H_vanilla.history['val_acc']\n",
    "training_error = H_vanilla.history['loss']\n",
    "validation_error = H_vanilla.history['val_loss']\n",
    "\n",
    "# Plot performance\n",
    "plt.figure(0)\n",
    "plt.plot(training_accuracy,'r')\n",
    "plt.plot(validation_accuracy,'g')\n",
    "plt.xticks(np.arange(0, len(training_accuracy), 2.0))\n",
    "plt.rcParams['figure.figsize'] = (8, 6)\n",
    "plt.xlabel(\"Num of Epochs\")\n",
    "plt.ylabel(\"Accuracy\")\n",
    "plt.title(\"Training Accuracy vs Validation Accuracy\")\n",
    "plt.legend(['train','validation'])\n",
    "plt.figure(1)\n",
    "plt.plot(training_error,'r')\n",
    "plt.plot(validation_error,'g')\n",
    "plt.xticks(np.arange(0, len(training_accuracy), 2.0))\n",
    "plt.rcParams['figure.figsize'] = (8, 6)\n",
    "plt.xlabel(\"Num of Epochs\")\n",
    "plt.ylabel(\"Loss\")\n",
    "plt.title(\"Training Loss vs Validation Loss\")\n",
    "plt.legend(['train','validation'])\n",
    "plt.show()"
   ]
  },
  {
   "cell_type": "markdown",
   "metadata": {},
   "source": [
    "### Test model performance on test set"
   ]
  },
  {
   "cell_type": "code",
   "execution_count": 37,
   "metadata": {},
   "outputs": [
    {
     "name": "stdout",
     "output_type": "stream",
     "text": [
      "MLP Error on test set: 14.80%\n",
      "MLP Accuracy on test set: 85.20%\n",
      "\n",
      "Classification report: \n",
      "              precision    recall  f1-score   support\n",
      "\n",
      "           0       0.81      0.81      0.81      1000\n",
      "           1       0.98      0.97      0.97      1000\n",
      "           2       0.73      0.74      0.73      1000\n",
      "           3       0.87      0.84      0.86      1000\n",
      "           4       0.73      0.72      0.73      1000\n",
      "           5       0.97      0.94      0.96      1000\n",
      "           6       0.62      0.63      0.62      1000\n",
      "           7       0.95      0.92      0.93      1000\n",
      "           8       0.97      0.96      0.97      1000\n",
      "           9       0.91      0.97      0.94      1000\n",
      "\n",
      "   micro avg       0.85      0.85      0.85     10000\n",
      "   macro avg       0.85      0.85      0.85     10000\n",
      "weighted avg       0.85      0.85      0.85     10000\n",
      "\n"
     ]
    }
   ],
   "source": [
    "scores = model_vanilla.evaluate(x_test, y_test, verbose=0)\n",
    "print(\"MLP Error on test set: %.2f%%\" % (100-scores[1]*100))\n",
    "print(\"MLP Accuracy on test set: %.2f%%\" % (scores[1]*100))\n",
    "\n",
    "print('\\nClassification report:')\n",
    "predict_test = model_vanilla.predict(x_test)\n",
    "print(classification_report(y_test.argmax(axis=1), predict_test.argmax(axis=1)))"
   ]
  },
  {
   "cell_type": "markdown",
   "metadata": {},
   "source": [
    "## Model with Drop out"
   ]
  },
  {
   "cell_type": "markdown",
   "metadata": {},
   "source": [
    "### Build model"
   ]
  },
  {
   "cell_type": "code",
   "execution_count": 16,
   "metadata": {
    "colab": {},
    "colab_type": "code",
    "id": "esxtR2P9Iab_"
   },
   "outputs": [
    {
     "name": "stdout",
     "output_type": "stream",
     "text": [
      "WARNING:tensorflow:From c:\\users\\toanq\\anaconda3\\envs\\dl\\lib\\site-packages\\keras\\backend\\tensorflow_backend.py:3445: calling dropout (from tensorflow.python.ops.nn_ops) with keep_prob is deprecated and will be removed in a future version.\n",
      "Instructions for updating:\n",
      "Please use `rate` instead of `keep_prob`. Rate should be set to `rate = 1 - keep_prob`.\n",
      "_________________________________________________________________\n",
      "Layer (type)                 Output Shape              Param #   \n",
      "=================================================================\n",
      "flatten_2 (Flatten)          (None, 784)               0         \n",
      "_________________________________________________________________\n",
      "dense_3 (Dense)              (None, 1024)              803840    \n",
      "_________________________________________________________________\n",
      "dropout_1 (Dropout)          (None, 1024)              0         \n",
      "_________________________________________________________________\n",
      "activation_2 (Activation)    (None, 1024)              0         \n",
      "_________________________________________________________________\n",
      "dense_4 (Dense)              (None, 10)                10250     \n",
      "=================================================================\n",
      "Total params: 814,090\n",
      "Trainable params: 814,090\n",
      "Non-trainable params: 0\n",
      "_________________________________________________________________\n"
     ]
    }
   ],
   "source": [
    "# Build model\n",
    "model_dropout = Sequential()\n",
    "\n",
    "# Flatten the input to 1D array (784,)\n",
    "model_dropout.add(Flatten(input_shape=(28, 28, 1)))\n",
    "\n",
    "# Add 1st layer, randomly dropping 50% nodes during training\n",
    "model_dropout.add(Dense(1024))\n",
    "model_dropout.add(Dropout(0.5))\n",
    "model_dropout.add(Activation('relu'))\n",
    "\n",
    "# add output layer\n",
    "model_dropout.add(Dense(number_of_classes, activation='softmax'))\n",
    "\n",
    "# compile model\n",
    "model_dropout.compile(loss='categorical_crossentropy', optimizer='adam', metrics=['accuracy'])\n",
    "\n",
    "# Print summary of model\n",
    "model_dropout.summary()"
   ]
  },
  {
   "cell_type": "markdown",
   "metadata": {},
   "source": [
    "### Train model"
   ]
  },
  {
   "cell_type": "code",
   "execution_count": 17,
   "metadata": {},
   "outputs": [
    {
     "name": "stdout",
     "output_type": "stream",
     "text": [
      "Epoch 1/3\n",
      "937/937 [==============================] - 30s 32ms/step - loss: 0.7692 - acc: 0.7111 - val_loss: 0.5489 - val_acc: 0.7996\n",
      "Epoch 2/3\n",
      "937/937 [==============================] - 30s 32ms/step - loss: 0.6383 - acc: 0.7578 - val_loss: 0.4979 - val_acc: 0.8195\n",
      "Epoch 3/3\n",
      "937/937 [==============================] - 29s 31ms/step - loss: 0.6000 - acc: 0.7746 - val_loss: 0.4762 - val_acc: 0.8184\n"
     ]
    }
   ],
   "source": [
    "# train model\n",
    "H_dropout = model_dropout.fit_generator(train_generator, steps_per_epoch=60000//64, epochs=50, \n",
    "                                        validation_data=val_generator, validation_steps=10000//64)"
   ]
  },
  {
   "cell_type": "markdown",
   "metadata": {},
   "source": [
    "### Plot model performance"
   ]
  },
  {
   "cell_type": "code",
   "execution_count": 18,
   "metadata": {
    "colab": {},
    "colab_type": "code",
    "id": "Q0OudKFh8EdT"
   },
   "outputs": [
    {
     "data": {
      "image/png": "[encoded data removed]",
      "text/plain": [
       "<Figure size 576x432 with 1 Axes>"
      ]
     },
     "metadata": {
      "needs_background": "light"
     },
     "output_type": "display_data"
    },
    {
     "data": {
      "image/png": "[encoded data removed]",
      "text/plain": [
       "<Figure size 576x432 with 1 Axes>"
      ]
     },
     "metadata": {
      "needs_background": "light"
     },
     "output_type": "display_data"
    }
   ],
   "source": [
    "# Get model performance\n",
    "training_accuracy = H_dropout.history['acc']\n",
    "validation_accuracy = H_dropout.history['val_acc']\n",
    "training_error = H_dropout.history['loss']\n",
    "validation_error = H_dropout.history['val_loss']\n",
    "\n",
    "# Plot performance\n",
    "plt.figure(0)\n",
    "plt.plot(training_accuracy,'r')\n",
    "plt.plot(validation_accuracy,'g')\n",
    "plt.xticks(np.arange(0, len(training_accuracy), 2.0))\n",
    "plt.rcParams['figure.figsize'] = (8, 6)\n",
    "plt.xlabel(\"Num of Epochs\")\n",
    "plt.ylabel(\"Accuracy\")\n",
    "plt.title(\"Training Accuracy vs Validation Accuracy\")\n",
    "plt.legend(['train','validation'])\n",
    "plt.figure(1)\n",
    "plt.plot(training_error,'r')\n",
    "plt.plot(validation_error,'g')\n",
    "plt.xticks(np.arange(0, len(training_accuracy), 2.0))\n",
    "plt.rcParams['figure.figsize'] = (8, 6)\n",
    "plt.xlabel(\"Num of Epochs\")\n",
    "plt.ylabel(\"Loss\")\n",
    "plt.title(\"Training Loss vs Validation Loss\")\n",
    "plt.legend(['train','validation'])\n",
    "plt.show()"
   ]
  },
  {
   "cell_type": "markdown",
   "metadata": {},
   "source": [
    "### Test model performance on test set"
   ]
  },
  {
   "cell_type": "code",
   "execution_count": 39,
   "metadata": {
    "colab": {},
    "colab_type": "code",
    "id": "oorx9Mi58UNs"
   },
   "outputs": [
    {
     "name": "stdout",
     "output_type": "stream",
     "text": [
      "MLP Error on test set: 18.56%\n",
      "MLP Accuracy on test set: 81.44%\n",
      "\n",
      "Classification report:\n",
      "              precision    recall  f1-score   support\n",
      "\n",
      "           0       0.75      0.79      0.77      1000\n",
      "           1       0.96      0.96      0.96      1000\n",
      "           2       0.60      0.82      0.69      1000\n",
      "           3       0.79      0.77      0.78      1000\n",
      "           4       0.66      0.73      0.70      1000\n",
      "           5       0.96      0.92      0.94      1000\n",
      "           6       0.67      0.33      0.44      1000\n",
      "           7       0.92      0.91      0.91      1000\n",
      "           8       0.95      0.95      0.95      1000\n",
      "           9       0.91      0.97      0.94      1000\n",
      "\n",
      "   micro avg       0.81      0.81      0.81     10000\n",
      "   macro avg       0.82      0.81      0.81     10000\n",
      "weighted avg       0.82      0.81      0.81     10000\n",
      "\n"
     ]
    }
   ],
   "source": [
    "scores = model_dropout.evaluate(x_test, y_test, verbose=0)\n",
    "print(\"MLP Error on test set: %.2f%%\" % (100-scores[1]*100))\n",
    "print(\"MLP Accuracy on test set: %.2f%%\" % (scores[1]*100))\n",
    "\n",
    "print('\\nClassification report:')\n",
    "predict_test = model_dropout.predict(x_test)\n",
    "print(classification_report(y_test.argmax(axis=1), predict_test.argmax(axis=1)))"
   ]
  },
  {
   "cell_type": "markdown",
   "metadata": {},
   "source": [
    "## Model with Batch Normalization - Adam optimizer"
   ]
  },
  {
   "cell_type": "markdown",
   "metadata": {},
   "source": [
    "### Build model"
   ]
  },
  {
   "cell_type": "code",
   "execution_count": 21,
   "metadata": {
    "colab": {},
    "colab_type": "code",
    "id": "oNCqJXv27F_h"
   },
   "outputs": [
    {
     "name": "stdout",
     "output_type": "stream",
     "text": [
      "_________________________________________________________________\n",
      "Layer (type)                 Output Shape              Param #   \n",
      "=================================================================\n",
      "flatten_4 (Flatten)          (None, 784)               0         \n",
      "_________________________________________________________________\n",
      "batch_normalization_2 (Batch (None, 784)               3136      \n",
      "_________________________________________________________________\n",
      "dense_5 (Dense)              (None, 32)                25120     \n",
      "_________________________________________________________________\n",
      "batch_normalization_3 (Batch (None, 32)                128       \n",
      "_________________________________________________________________\n",
      "activation_3 (Activation)    (None, 32)                0         \n",
      "_________________________________________________________________\n",
      "dense_6 (Dense)              (None, 32)                1056      \n",
      "_________________________________________________________________\n",
      "batch_normalization_4 (Batch (None, 32)                128       \n",
      "_________________________________________________________________\n",
      "activation_4 (Activation)    (None, 32)                0         \n",
      "_________________________________________________________________\n",
      "dense_7 (Dense)              (None, 16)                528       \n",
      "_________________________________________________________________\n",
      "batch_normalization_5 (Batch (None, 16)                64        \n",
      "_________________________________________________________________\n",
      "activation_5 (Activation)    (None, 16)                0         \n",
      "_________________________________________________________________\n",
      "dense_8 (Dense)              (None, 10)                170       \n",
      "=================================================================\n",
      "Total params: 30,330\n",
      "Trainable params: 28,602\n",
      "Non-trainable params: 1,728\n",
      "_________________________________________________________________\n"
     ]
    }
   ],
   "source": [
    "# Build model\n",
    "\n",
    "model_bn = Sequential()\n",
    "\n",
    "# Flatten the input to 1D array (784,)\n",
    "model_bn.add(Flatten(input_shape=(28, 28, 1)))\n",
    "\n",
    "# Normalize input\n",
    "model_bn.add(BatchNormalization())\n",
    "\n",
    "# Add 1st layer, using BatchNormalization to normalize output\n",
    "model_bn.add(Dense(32))\n",
    "model_bn.add(BatchNormalization())\n",
    "model_bn.add(Activation('relu'))\n",
    "\n",
    "model_bn.add(Dense(32))\n",
    "model_bn.add(BatchNormalization())\n",
    "model_bn.add(Activation('relu'))\n",
    "\n",
    "model_bn.add(Dense(16))\n",
    "model_bn.add(BatchNormalization())\n",
    "model_bn.add(Activation('relu'))\n",
    "\n",
    "# Add output layer\n",
    "model_bn.add(Dense(number_of_classes, activation='softmax'))\n",
    "\n",
    "model_bn.compile(loss='categorical_crossentropy', optimizer='adam', metrics=['accuracy'])\n",
    "\n",
    "model_bn.summary()"
   ]
  },
  {
   "cell_type": "markdown",
   "metadata": {},
   "source": [
    "### Train model"
   ]
  },
  {
   "cell_type": "code",
   "execution_count": 23,
   "metadata": {},
   "outputs": [
    {
     "name": "stdout",
     "output_type": "stream",
     "text": [
      "Epoch 1/3\n",
      "937/937 [==============================] - 32s 34ms/step - loss: 0.8822 - acc: 0.7051 - val_loss: 0.5542 - val_acc: 0.7949\n",
      "Epoch 2/3\n",
      "937/937 [==============================] - 30s 32ms/step - loss: 0.6304 - acc: 0.7677 - val_loss: 0.5084 - val_acc: 0.8090\n",
      "Epoch 3/3\n",
      "937/937 [==============================] - 30s 32ms/step - loss: 0.5923 - acc: 0.7800 - val_loss: 0.4833 - val_acc: 0.8101\n"
     ]
    }
   ],
   "source": [
    "# fit model\n",
    "H_bn = model_bn.fit_generator(train_generator, steps_per_epoch=60000//64, epochs=30, \n",
    "                        validation_data=val_generator, validation_steps=10000//64)"
   ]
  },
  {
   "cell_type": "markdown",
   "metadata": {},
   "source": [
    "### Plot model performance"
   ]
  },
  {
   "cell_type": "code",
   "execution_count": 24,
   "metadata": {
    "colab": {},
    "colab_type": "code",
    "id": "n9yHwo0vJNQr"
   },
   "outputs": [
    {
     "data": {
      "image/png": "[encoded data removed]",
      "text/plain": [
       "<Figure size 576x432 with 1 Axes>"
      ]
     },
     "metadata": {
      "needs_background": "light"
     },
     "output_type": "display_data"
    },
    {
     "data": {
      "image/png": "[encoded data removed]",
      "text/plain": [
       "<Figure size 576x432 with 1 Axes>"
      ]
     },
     "metadata": {
      "needs_background": "light"
     },
     "output_type": "display_data"
    }
   ],
   "source": [
    "# Get performance from model\n",
    "training_accuracy = H_bn.history['acc']\n",
    "validation_accuracy = H_bn.history['val_acc']\n",
    "training_error = H_bn.history['loss']\n",
    "validation_error = H_bn.history['val_loss']\n",
    "\n",
    "# Plot performance\n",
    "plt.figure(0)\n",
    "plt.plot(training_accuracy,'r')\n",
    "plt.plot(validation_accuracy,'g')\n",
    "plt.xticks(np.arange(0, len(training_accuracy), 2.0))\n",
    "plt.rcParams['figure.figsize'] = (8, 6)\n",
    "plt.xlabel(\"Num of Epochs\")\n",
    "plt.ylabel(\"Accuracy\")\n",
    "plt.title(\"Training Accuracy vs Validation Accuracy\")\n",
    "plt.legend(['train','validation'])\n",
    "plt.figure(1)\n",
    "plt.plot(training_error,'r')\n",
    "plt.plot(validation_error,'g')\n",
    "plt.xticks(np.arange(0, len(training_accuracy), 2.0))\n",
    "plt.rcParams['figure.figsize'] = (8, 6)\n",
    "plt.xlabel(\"Num of Epochs\")\n",
    "plt.ylabel(\"Loss\")\n",
    "plt.title(\"Training Loss vs Validation Loss\")\n",
    "plt.legend(['train','validation'])\n",
    "plt.show()"
   ]
  },
  {
   "cell_type": "markdown",
   "metadata": {},
   "source": [
    "### Test model performance on test set"
   ]
  },
  {
   "cell_type": "code",
   "execution_count": 40,
   "metadata": {
    "colab": {},
    "colab_type": "code",
    "id": "wQKi0TKBQk9t"
   },
   "outputs": [
    {
     "name": "stdout",
     "output_type": "stream",
     "text": [
      "MLP Error on test set: 18.86%\n",
      "MLP Accuracy on test set: 81.14%\n",
      "\n",
      "Classification report:\n",
      "              precision    recall  f1-score   support\n",
      "\n",
      "           0       0.75      0.80      0.77      1000\n",
      "           1       0.96      0.95      0.95      1000\n",
      "           2       0.75      0.52      0.61      1000\n",
      "           3       0.79      0.86      0.83      1000\n",
      "           4       0.65      0.80      0.72      1000\n",
      "           5       0.89      0.92      0.91      1000\n",
      "           6       0.54      0.51      0.53      1000\n",
      "           7       0.93      0.87      0.90      1000\n",
      "           8       0.96      0.93      0.95      1000\n",
      "           9       0.90      0.95      0.92      1000\n",
      "\n",
      "   micro avg       0.81      0.81      0.81     10000\n",
      "   macro avg       0.81      0.81      0.81     10000\n",
      "weighted avg       0.81      0.81      0.81     10000\n",
      "\n"
     ]
    }
   ],
   "source": [
    "scores = model_bn.evaluate(x_test, y_test, verbose=0)\n",
    "print(\"MLP Error on test set: %.2f%%\" % (100-scores[1]*100))\n",
    "print(\"MLP Accuracy on test set: %.2f%%\" % (scores[1]*100))\n",
    "\n",
    "print('\\nClassification report:')\n",
    "predict_test = model_bn.predict(x_test)\n",
    "print(classification_report(y_test.argmax(axis=1), predict_test.argmax(axis=1)))"
   ]
  },
  {
   "cell_type": "markdown",
   "metadata": {},
   "source": [
    "## Model with Batch Normalization - Stochastic Gradient Descent and learning rate decay"
   ]
  },
  {
   "cell_type": "markdown",
   "metadata": {},
   "source": [
    "### Build model"
   ]
  },
  {
   "cell_type": "code",
   "execution_count": 28,
   "metadata": {
    "colab": {},
    "colab_type": "code",
    "id": "Z93ARh2zWGff"
   },
   "outputs": [
    {
     "name": "stdout",
     "output_type": "stream",
     "text": [
      "_________________________________________________________________\n",
      "Layer (type)                 Output Shape              Param #   \n",
      "=================================================================\n",
      "flatten_7 (Flatten)          (None, 784)               0         \n",
      "_________________________________________________________________\n",
      "batch_normalization_12 (Batc (None, 784)               3136      \n",
      "_________________________________________________________________\n",
      "dense_15 (Dense)             (None, 128)               100480    \n",
      "_________________________________________________________________\n",
      "batch_normalization_13 (Batc (None, 128)               512       \n",
      "_________________________________________________________________\n",
      "activation_10 (Activation)   (None, 128)               0         \n",
      "_________________________________________________________________\n",
      "dense_16 (Dense)             (None, 128)               16512     \n",
      "_________________________________________________________________\n",
      "batch_normalization_14 (Batc (None, 128)               512       \n",
      "_________________________________________________________________\n",
      "activation_11 (Activation)   (None, 128)               0         \n",
      "_________________________________________________________________\n",
      "dense_17 (Dense)             (None, 10)                1290      \n",
      "=================================================================\n",
      "Total params: 122,442\n",
      "Trainable params: 120,362\n",
      "Non-trainable params: 2,080\n",
      "_________________________________________________________________\n"
     ]
    }
   ],
   "source": [
    "# Build model\n",
    "model_sgd = Sequential()\n",
    "\n",
    "# Flatten the input to 1D array (784,)\n",
    "model_sgd.add(Flatten(input_shape=(28, 28, 1)))\n",
    "\n",
    "# Normalize input\n",
    "model_sgd.add(BatchNormalization())\n",
    "\n",
    "# Add 1st layer, using BatchNormalization to normalize output\n",
    "model_sgd.add(Dense(128))\n",
    "model_sgd.add(BatchNormalization())\n",
    "model_sgd.add(Activation('relu'))\n",
    "\n",
    "model_sgd.add(Dense(128))\n",
    "model_sgd.add(BatchNormalization())\n",
    "model_sgd.add(Activation('relu'))\n",
    "\n",
    "# Add output layer\n",
    "model_sgd.add(Dense(number_of_classes, activation='softmax'))\n",
    "\n",
    "# optimizer\n",
    "NUM_EPOCHS = 25\n",
    "INIT_LR = 1e-2\n",
    "opt = tSGD(lr=INIT_LR, momentum=0.9, decay=INIT_LR / NUM_EPOCHS)\n",
    "\n",
    "model_sgd.compile(loss='categorical_crossentropy', optimizer=opt, metrics=['accuracy'])\n",
    "\n",
    "model_sgd.summary()"
   ]
  },
  {
   "cell_type": "markdown",
   "metadata": {},
   "source": [
    "### Train model"
   ]
  },
  {
   "cell_type": "code",
   "execution_count": 29,
   "metadata": {},
   "outputs": [
    {
     "name": "stdout",
     "output_type": "stream",
     "text": [
      "Epoch 1/3\n",
      "937/937 [==============================] - 33s 35ms/step - loss: 0.6851 - acc: 0.7467 - val_loss: 0.4961 - val_acc: 0.8157\n",
      "Epoch 2/3\n",
      "937/937 [==============================] - 31s 33ms/step - loss: 0.5706 - acc: 0.7866 - val_loss: 0.4687 - val_acc: 0.8281\n",
      "Epoch 3/3\n",
      "937/937 [==============================] - 30s 32ms/step - loss: 0.5499 - acc: 0.7951 - val_loss: 0.4606 - val_acc: 0.8274\n"
     ]
    }
   ],
   "source": [
    "# fit model\n",
    "H_sgd = model_sgd.fit_generator(train_generator, steps_per_epoch=60000//64, epochs=NUM_EPOCHS, \n",
    "                            validation_data=val_generator, validation_steps=10000//64)"
   ]
  },
  {
   "cell_type": "markdown",
   "metadata": {},
   "source": [
    "### Plot model performance"
   ]
  },
  {
   "cell_type": "code",
   "execution_count": 30,
   "metadata": {
    "colab": {},
    "colab_type": "code",
    "id": "hQIQW2UmL5yB"
   },
   "outputs": [
    {
     "data": {
      "image/png": "[encoded data removed]",
      "text/plain": [
       "<Figure size 576x432 with 1 Axes>"
      ]
     },
     "metadata": {
      "needs_background": "light"
     },
     "output_type": "display_data"
    },
    {
     "data": {
      "image/png": "[encoded data removed]",
      "text/plain": [
       "<Figure size 576x432 with 1 Axes>"
      ]
     },
     "metadata": {
      "needs_background": "light"
     },
     "output_type": "display_data"
    }
   ],
   "source": [
    "# Get performance from model\n",
    "training_accuracy = H_sgd.history['acc']\n",
    "validation_accuracy = H_sgd.history['val_acc']\n",
    "training_error = H_sgd.history['loss']\n",
    "validation_error = H_sgd.history['val_loss']\n",
    "\n",
    "# Plot model performance\n",
    "plt.figure(0)\n",
    "plt.plot(training_accuracy,'r')\n",
    "plt.plot(validation_accuracy,'g')\n",
    "plt.xticks(np.arange(0, len(training_accuracy), 2.0))\n",
    "plt.rcParams['figure.figsize'] = (8, 6)\n",
    "plt.xlabel(\"Num of Epochs\")\n",
    "plt.ylabel(\"Accuracy\")\n",
    "plt.title(\"Training Accuracy vs Validation Accuracy\")\n",
    "plt.legend(['train','validation'])\n",
    "plt.figure(1)\n",
    "plt.plot(training_error,'r')\n",
    "plt.plot(validation_error,'g')\n",
    "plt.xticks(np.arange(0, len(training_accuracy), 2.0))\n",
    "plt.rcParams['figure.figsize'] = (8, 6)\n",
    "plt.xlabel(\"Num of Epochs\")\n",
    "plt.ylabel(\"Loss\")\n",
    "plt.title(\"Training Loss vs Validation Loss\")\n",
    "plt.legend(['train','validation'])\n",
    "plt.show()"
   ]
  },
  {
   "cell_type": "markdown",
   "metadata": {},
   "source": [
    "### Test model performance on test set"
   ]
  },
  {
   "cell_type": "code",
   "execution_count": 42,
   "metadata": {
    "colab": {},
    "colab_type": "code",
    "id": "qSKVIpMjL-fA"
   },
   "outputs": [
    {
     "name": "stdout",
     "output_type": "stream",
     "text": [
      "MLP Error on test set: 17.53%\n",
      "MLP Accuracy on test set: 82.47%\n",
      "\n",
      "Classification report:\n",
      "              precision    recall  f1-score   support\n",
      "\n",
      "           0       0.79      0.79      0.79      1000\n",
      "           1       0.98      0.94      0.96      1000\n",
      "           2       0.66      0.73      0.70      1000\n",
      "           3       0.80      0.86      0.83      1000\n",
      "           4       0.77      0.64      0.69      1000\n",
      "           5       0.92      0.93      0.93      1000\n",
      "           6       0.54      0.56      0.55      1000\n",
      "           7       0.91      0.92      0.91      1000\n",
      "           8       0.96      0.94      0.95      1000\n",
      "           9       0.93      0.93      0.93      1000\n",
      "\n",
      "   micro avg       0.82      0.82      0.82     10000\n",
      "   macro avg       0.83      0.82      0.82     10000\n",
      "weighted avg       0.83      0.82      0.82     10000\n",
      "\n"
     ]
    }
   ],
   "source": [
    "scores = model_sgd.evaluate(x_test, y_test, verbose=0)\n",
    "print(\"MLP Error on test set: %.2f%%\" % (100-scores[1]*100))\n",
    "print(\"MLP Accuracy on test set: %.2f%%\" % (scores[1]*100))\n",
    "\n",
    "print('\\nClassification report:')\n",
    "predict_test = model_sgd.predict(x_test)\n",
    "print(classification_report(y_test.argmax(axis=1), predict_test.argmax(axis=1)))"
   ]
  },
  {
   "cell_type": "markdown",
   "metadata": {
    "colab": {},
    "colab_type": "code",
    "id": "QIGBHiVPSG8J"
   },
   "source": [
    "# Summary"
   ]
  },
  {
   "cell_type": "markdown",
   "metadata": {
    "colab": {},
    "colab_type": "code",
    "id": "de33v0naz9HM"
   },
   "source": [
    "*Several classes has high precision and recall score, while some has low*"
   ]
  },
  {
   "cell_type": "code",
   "execution_count": null,
   "metadata": {},
   "outputs": [],
   "source": []
  }
 ],
 "metadata": {
  "accelerator": "GPU",
  "colab": {
   "collapsed_sections": [],
   "name": "ML_ASM2_ANN.ipynb",
   "private_outputs": true,
   "provenance": [],
   "version": "0.3.2"
  },
  "kernelspec": {
   "display_name": "Python 3",
   "language": "python",
   "name": "python3"
  },
  "language_info": {
   "codemirror_mode": {
    "name": "ipython",
    "version": 3
   },
   "file_extension": ".py",
   "mimetype": "text/x-python",
   "name": "python",
   "nbconvert_exporter": "python",
   "pygments_lexer": "ipython3",
   "version": "3.7.3"
  }
 },
 "nbformat": 4,
 "nbformat_minor": 2
}
